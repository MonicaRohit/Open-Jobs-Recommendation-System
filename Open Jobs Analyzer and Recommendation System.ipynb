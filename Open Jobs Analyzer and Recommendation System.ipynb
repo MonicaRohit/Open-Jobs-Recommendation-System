{
 "cells": [
  {
   "cell_type": "markdown",
   "id": "3969d917",
   "metadata": {},
   "source": [
    "## Importing the required libraries"
   ]
  },
  {
   "cell_type": "code",
   "execution_count": 1,
   "id": "863203ba",
   "metadata": {},
   "outputs": [],
   "source": [
    "\n",
    "import pandas as pd\n",
    "import numpy as np\n",
    "import matplotlib.pyplot as plt\n",
    "import seaborn as sns\n",
    "import ipywidgets\n",
    "from ipywidgets import interact\n",
    "import warnings\n",
    "warnings.filterwarnings('ignore')"
   ]
  },
  {
   "cell_type": "code",
   "execution_count": 2,
   "id": "b8873f4b",
   "metadata": {},
   "outputs": [],
   "source": [
    "plt.style.use('seaborn-darkgrid')"
   ]
  },
  {
   "cell_type": "code",
   "execution_count": 3,
   "id": "d0099d54",
   "metadata": {},
   "outputs": [],
   "source": [
    "# Importing the dataset\n",
    "\n",
    "df = pd.read_csv('naukri.csv')"
   ]
  },
  {
   "cell_type": "code",
   "execution_count": 4,
   "id": "63096894",
   "metadata": {},
   "outputs": [
    {
     "data": {
      "text/html": [
       "<div>\n",
       "<style scoped>\n",
       "    .dataframe tbody tr th:only-of-type {\n",
       "        vertical-align: middle;\n",
       "    }\n",
       "\n",
       "    .dataframe tbody tr th {\n",
       "        vertical-align: top;\n",
       "    }\n",
       "\n",
       "    .dataframe thead th {\n",
       "        text-align: right;\n",
       "    }\n",
       "</style>\n",
       "<table border=\"1\" class=\"dataframe\">\n",
       "  <thead>\n",
       "    <tr style=\"text-align: right;\">\n",
       "      <th></th>\n",
       "      <th>company</th>\n",
       "      <th>education</th>\n",
       "      <th>experience</th>\n",
       "      <th>industry</th>\n",
       "      <th>jobdescription</th>\n",
       "      <th>jobid</th>\n",
       "      <th>joblocation_address</th>\n",
       "      <th>jobtitle</th>\n",
       "      <th>numberofpositions</th>\n",
       "      <th>payrate</th>\n",
       "      <th>postdate</th>\n",
       "      <th>site_name</th>\n",
       "      <th>skills</th>\n",
       "      <th>uniq_id</th>\n",
       "    </tr>\n",
       "  </thead>\n",
       "  <tbody>\n",
       "    <tr>\n",
       "      <th>0</th>\n",
       "      <td>MM Media Pvt Ltd</td>\n",
       "      <td>UG: B.Tech/B.E. - Any Specialization PG:Any Po...</td>\n",
       "      <td>0 - 1 yrs</td>\n",
       "      <td>Media / Entertainment / Internet</td>\n",
       "      <td>Job Description   Send me Jobs like this Quali...</td>\n",
       "      <td>210516002263</td>\n",
       "      <td>Chennai</td>\n",
       "      <td>Walkin Data Entry Operator (night Shift)</td>\n",
       "      <td>NaN</td>\n",
       "      <td>1,50,000 - 2,25,000 P.A</td>\n",
       "      <td>2016-05-21 19:30:00 +0000</td>\n",
       "      <td>NaN</td>\n",
       "      <td>ITES</td>\n",
       "      <td>43b19632647068535437c774b6ca6cf8</td>\n",
       "    </tr>\n",
       "    <tr>\n",
       "      <th>1</th>\n",
       "      <td>find live infotech</td>\n",
       "      <td>UG: B.Tech/B.E. - Any Specialization PG:MBA/PG...</td>\n",
       "      <td>0 - 0 yrs</td>\n",
       "      <td>Advertising / PR / MR / Event Management</td>\n",
       "      <td>Job Description   Send me Jobs like this Quali...</td>\n",
       "      <td>210516002391</td>\n",
       "      <td>Chennai</td>\n",
       "      <td>Work Based Onhome Based Part Time.</td>\n",
       "      <td>60.0</td>\n",
       "      <td>1,50,000 - 2,50,000 P.A. 20000</td>\n",
       "      <td>2016-05-21 19:30:00 +0000</td>\n",
       "      <td>NaN</td>\n",
       "      <td>Marketing</td>\n",
       "      <td>d4c72325e57f89f364812b5ed5a795f0</td>\n",
       "    </tr>\n",
       "    <tr>\n",
       "      <th>2</th>\n",
       "      <td>Softtech Career Infosystem Pvt. Ltd</td>\n",
       "      <td>UG: Any Graduate - Any Specialization PG:Any P...</td>\n",
       "      <td>4 - 8 yrs</td>\n",
       "      <td>IT-Software / Software Services</td>\n",
       "      <td>Job Description   Send me Jobs like this - as ...</td>\n",
       "      <td>101016900534</td>\n",
       "      <td>Bengaluru</td>\n",
       "      <td>Pl/sql Developer - SQL</td>\n",
       "      <td>NaN</td>\n",
       "      <td>Not Disclosed by Recruiter</td>\n",
       "      <td>2016-10-13 16:20:55 +0000</td>\n",
       "      <td>NaN</td>\n",
       "      <td>IT Software - Application Programming</td>\n",
       "      <td>c47df6f4cfdf5b46f1fd713ba61b9eba</td>\n",
       "    </tr>\n",
       "    <tr>\n",
       "      <th>3</th>\n",
       "      <td>Onboard HRServices LLP</td>\n",
       "      <td>UG: Any Graduate - Any Specialization PG:CA Do...</td>\n",
       "      <td>11 - 15 yrs</td>\n",
       "      <td>Banking / Financial Services / Broking</td>\n",
       "      <td>Job Description   Send me Jobs like this - Inv...</td>\n",
       "      <td>81016900536</td>\n",
       "      <td>Mumbai, Bengaluru, Kolkata, Chennai, Coimbator...</td>\n",
       "      <td>Manager/ad/partner - Indirect Tax - CA</td>\n",
       "      <td>NaN</td>\n",
       "      <td>Not Disclosed by Recruiter</td>\n",
       "      <td>2016-10-13 16:20:55 +0000</td>\n",
       "      <td>NaN</td>\n",
       "      <td>Accounts</td>\n",
       "      <td>115d28f140f694dd1cc61c53d03c66ae</td>\n",
       "    </tr>\n",
       "    <tr>\n",
       "      <th>4</th>\n",
       "      <td>Spire Technologies and Solutions Pvt. Ltd.</td>\n",
       "      <td>UG: B.Tech/B.E. - Any Specialization PG:Any Po...</td>\n",
       "      <td>6 - 8 yrs</td>\n",
       "      <td>IT-Software / Software Services</td>\n",
       "      <td>Job Description   Send me Jobs like this Pleas...</td>\n",
       "      <td>120916002122</td>\n",
       "      <td>Bengaluru</td>\n",
       "      <td>JAVA Technical Lead (6-8 yrs) -</td>\n",
       "      <td>4.0</td>\n",
       "      <td>Not Disclosed by Recruiter</td>\n",
       "      <td>2016-10-13 16:20:55 +0000</td>\n",
       "      <td>NaN</td>\n",
       "      <td>IT Software - Application Programming</td>\n",
       "      <td>a12553fc03bc7bcced8b1bb8963f97b4</td>\n",
       "    </tr>\n",
       "  </tbody>\n",
       "</table>\n",
       "</div>"
      ],
      "text/plain": [
       "                                      company  \\\n",
       "0                            MM Media Pvt Ltd   \n",
       "1                          find live infotech   \n",
       "2         Softtech Career Infosystem Pvt. Ltd   \n",
       "3                      Onboard HRServices LLP   \n",
       "4  Spire Technologies and Solutions Pvt. Ltd.   \n",
       "\n",
       "                                           education   experience  \\\n",
       "0  UG: B.Tech/B.E. - Any Specialization PG:Any Po...    0 - 1 yrs   \n",
       "1  UG: B.Tech/B.E. - Any Specialization PG:MBA/PG...    0 - 0 yrs   \n",
       "2  UG: Any Graduate - Any Specialization PG:Any P...    4 - 8 yrs   \n",
       "3  UG: Any Graduate - Any Specialization PG:CA Do...  11 - 15 yrs   \n",
       "4  UG: B.Tech/B.E. - Any Specialization PG:Any Po...    6 - 8 yrs   \n",
       "\n",
       "                                   industry  \\\n",
       "0          Media / Entertainment / Internet   \n",
       "1  Advertising / PR / MR / Event Management   \n",
       "2           IT-Software / Software Services   \n",
       "3    Banking / Financial Services / Broking   \n",
       "4           IT-Software / Software Services   \n",
       "\n",
       "                                      jobdescription         jobid  \\\n",
       "0  Job Description   Send me Jobs like this Quali...  210516002263   \n",
       "1  Job Description   Send me Jobs like this Quali...  210516002391   \n",
       "2  Job Description   Send me Jobs like this - as ...  101016900534   \n",
       "3  Job Description   Send me Jobs like this - Inv...   81016900536   \n",
       "4  Job Description   Send me Jobs like this Pleas...  120916002122   \n",
       "\n",
       "                                 joblocation_address  \\\n",
       "0                                            Chennai   \n",
       "1                                            Chennai   \n",
       "2                                          Bengaluru   \n",
       "3  Mumbai, Bengaluru, Kolkata, Chennai, Coimbator...   \n",
       "4                                          Bengaluru   \n",
       "\n",
       "                                   jobtitle  numberofpositions  \\\n",
       "0  Walkin Data Entry Operator (night Shift)                NaN   \n",
       "1        Work Based Onhome Based Part Time.               60.0   \n",
       "2                    Pl/sql Developer - SQL                NaN   \n",
       "3    Manager/ad/partner - Indirect Tax - CA                NaN   \n",
       "4           JAVA Technical Lead (6-8 yrs) -                4.0   \n",
       "\n",
       "                          payrate                   postdate site_name  \\\n",
       "0         1,50,000 - 2,25,000 P.A  2016-05-21 19:30:00 +0000       NaN   \n",
       "1  1,50,000 - 2,50,000 P.A. 20000  2016-05-21 19:30:00 +0000       NaN   \n",
       "2      Not Disclosed by Recruiter  2016-10-13 16:20:55 +0000       NaN   \n",
       "3      Not Disclosed by Recruiter  2016-10-13 16:20:55 +0000       NaN   \n",
       "4      Not Disclosed by Recruiter  2016-10-13 16:20:55 +0000       NaN   \n",
       "\n",
       "                                  skills                           uniq_id  \n",
       "0                                   ITES  43b19632647068535437c774b6ca6cf8  \n",
       "1                              Marketing  d4c72325e57f89f364812b5ed5a795f0  \n",
       "2  IT Software - Application Programming  c47df6f4cfdf5b46f1fd713ba61b9eba  \n",
       "3                               Accounts  115d28f140f694dd1cc61c53d03c66ae  \n",
       "4  IT Software - Application Programming  a12553fc03bc7bcced8b1bb8963f97b4  "
      ]
     },
     "execution_count": 4,
     "metadata": {},
     "output_type": "execute_result"
    }
   ],
   "source": [
    "df.head()"
   ]
  },
  {
   "cell_type": "code",
   "execution_count": 5,
   "id": "01a0091e",
   "metadata": {},
   "outputs": [
    {
     "data": {
      "text/plain": [
       "(22000, 14)"
      ]
     },
     "execution_count": 5,
     "metadata": {},
     "output_type": "execute_result"
    }
   ],
   "source": [
    "df.shape"
   ]
  },
  {
   "cell_type": "code",
   "execution_count": 6,
   "id": "454add0f",
   "metadata": {},
   "outputs": [
    {
     "name": "stdout",
     "output_type": "stream",
     "text": [
      "<class 'pandas.core.frame.DataFrame'>\n",
      "RangeIndex: 22000 entries, 0 to 21999\n",
      "Data columns (total 14 columns):\n",
      " #   Column               Non-Null Count  Dtype  \n",
      "---  ------               --------------  -----  \n",
      " 0   company              21996 non-null  object \n",
      " 1   education            20004 non-null  object \n",
      " 2   experience           21996 non-null  object \n",
      " 3   industry             21995 non-null  object \n",
      " 4   jobdescription       21996 non-null  object \n",
      " 5   jobid                22000 non-null  int64  \n",
      " 6   joblocation_address  21499 non-null  object \n",
      " 7   jobtitle             22000 non-null  object \n",
      " 8   numberofpositions    4464 non-null   float64\n",
      " 9   payrate              21903 non-null  object \n",
      " 10  postdate             21977 non-null  object \n",
      " 11  site_name            3987 non-null   object \n",
      " 12  skills               21472 non-null  object \n",
      " 13  uniq_id              22000 non-null  object \n",
      "dtypes: float64(1), int64(1), object(12)\n",
      "memory usage: 2.3+ MB\n"
     ]
    }
   ],
   "source": [
    "df.info()"
   ]
  },
  {
   "cell_type": "code",
   "execution_count": 7,
   "id": "01819269",
   "metadata": {},
   "outputs": [],
   "source": [
    "# Dropping the coloumns with irrelevent information\n",
    "drop = ['jobdescription','jobid','site_name','uniq_id','jobtitle','postdate']\n",
    "df = df.drop(columns=drop)"
   ]
  },
  {
   "cell_type": "code",
   "execution_count": 8,
   "id": "69a04cff",
   "metadata": {},
   "outputs": [
    {
     "data": {
      "text/html": [
       "<div>\n",
       "<style scoped>\n",
       "    .dataframe tbody tr th:only-of-type {\n",
       "        vertical-align: middle;\n",
       "    }\n",
       "\n",
       "    .dataframe tbody tr th {\n",
       "        vertical-align: top;\n",
       "    }\n",
       "\n",
       "    .dataframe thead th {\n",
       "        text-align: right;\n",
       "    }\n",
       "</style>\n",
       "<table border=\"1\" class=\"dataframe\">\n",
       "  <thead>\n",
       "    <tr style=\"text-align: right;\">\n",
       "      <th></th>\n",
       "      <th>company</th>\n",
       "      <th>education</th>\n",
       "      <th>experience</th>\n",
       "      <th>industry</th>\n",
       "      <th>joblocation_address</th>\n",
       "      <th>numberofpositions</th>\n",
       "      <th>payrate</th>\n",
       "      <th>skills</th>\n",
       "    </tr>\n",
       "  </thead>\n",
       "  <tbody>\n",
       "    <tr>\n",
       "      <th>0</th>\n",
       "      <td>MM Media Pvt Ltd</td>\n",
       "      <td>UG: B.Tech/B.E. - Any Specialization PG:Any Po...</td>\n",
       "      <td>0 - 1 yrs</td>\n",
       "      <td>Media / Entertainment / Internet</td>\n",
       "      <td>Chennai</td>\n",
       "      <td>NaN</td>\n",
       "      <td>1,50,000 - 2,25,000 P.A</td>\n",
       "      <td>ITES</td>\n",
       "    </tr>\n",
       "    <tr>\n",
       "      <th>1</th>\n",
       "      <td>find live infotech</td>\n",
       "      <td>UG: B.Tech/B.E. - Any Specialization PG:MBA/PG...</td>\n",
       "      <td>0 - 0 yrs</td>\n",
       "      <td>Advertising / PR / MR / Event Management</td>\n",
       "      <td>Chennai</td>\n",
       "      <td>60.0</td>\n",
       "      <td>1,50,000 - 2,50,000 P.A. 20000</td>\n",
       "      <td>Marketing</td>\n",
       "    </tr>\n",
       "    <tr>\n",
       "      <th>2</th>\n",
       "      <td>Softtech Career Infosystem Pvt. Ltd</td>\n",
       "      <td>UG: Any Graduate - Any Specialization PG:Any P...</td>\n",
       "      <td>4 - 8 yrs</td>\n",
       "      <td>IT-Software / Software Services</td>\n",
       "      <td>Bengaluru</td>\n",
       "      <td>NaN</td>\n",
       "      <td>Not Disclosed by Recruiter</td>\n",
       "      <td>IT Software - Application Programming</td>\n",
       "    </tr>\n",
       "    <tr>\n",
       "      <th>3</th>\n",
       "      <td>Onboard HRServices LLP</td>\n",
       "      <td>UG: Any Graduate - Any Specialization PG:CA Do...</td>\n",
       "      <td>11 - 15 yrs</td>\n",
       "      <td>Banking / Financial Services / Broking</td>\n",
       "      <td>Mumbai, Bengaluru, Kolkata, Chennai, Coimbator...</td>\n",
       "      <td>NaN</td>\n",
       "      <td>Not Disclosed by Recruiter</td>\n",
       "      <td>Accounts</td>\n",
       "    </tr>\n",
       "    <tr>\n",
       "      <th>4</th>\n",
       "      <td>Spire Technologies and Solutions Pvt. Ltd.</td>\n",
       "      <td>UG: B.Tech/B.E. - Any Specialization PG:Any Po...</td>\n",
       "      <td>6 - 8 yrs</td>\n",
       "      <td>IT-Software / Software Services</td>\n",
       "      <td>Bengaluru</td>\n",
       "      <td>4.0</td>\n",
       "      <td>Not Disclosed by Recruiter</td>\n",
       "      <td>IT Software - Application Programming</td>\n",
       "    </tr>\n",
       "  </tbody>\n",
       "</table>\n",
       "</div>"
      ],
      "text/plain": [
       "                                      company  \\\n",
       "0                            MM Media Pvt Ltd   \n",
       "1                          find live infotech   \n",
       "2         Softtech Career Infosystem Pvt. Ltd   \n",
       "3                      Onboard HRServices LLP   \n",
       "4  Spire Technologies and Solutions Pvt. Ltd.   \n",
       "\n",
       "                                           education   experience  \\\n",
       "0  UG: B.Tech/B.E. - Any Specialization PG:Any Po...    0 - 1 yrs   \n",
       "1  UG: B.Tech/B.E. - Any Specialization PG:MBA/PG...    0 - 0 yrs   \n",
       "2  UG: Any Graduate - Any Specialization PG:Any P...    4 - 8 yrs   \n",
       "3  UG: Any Graduate - Any Specialization PG:CA Do...  11 - 15 yrs   \n",
       "4  UG: B.Tech/B.E. - Any Specialization PG:Any Po...    6 - 8 yrs   \n",
       "\n",
       "                                   industry  \\\n",
       "0          Media / Entertainment / Internet   \n",
       "1  Advertising / PR / MR / Event Management   \n",
       "2           IT-Software / Software Services   \n",
       "3    Banking / Financial Services / Broking   \n",
       "4           IT-Software / Software Services   \n",
       "\n",
       "                                 joblocation_address  numberofpositions  \\\n",
       "0                                            Chennai                NaN   \n",
       "1                                            Chennai               60.0   \n",
       "2                                          Bengaluru                NaN   \n",
       "3  Mumbai, Bengaluru, Kolkata, Chennai, Coimbator...                NaN   \n",
       "4                                          Bengaluru                4.0   \n",
       "\n",
       "                          payrate                                 skills  \n",
       "0         1,50,000 - 2,25,000 P.A                                   ITES  \n",
       "1  1,50,000 - 2,50,000 P.A. 20000                              Marketing  \n",
       "2      Not Disclosed by Recruiter  IT Software - Application Programming  \n",
       "3      Not Disclosed by Recruiter                               Accounts  \n",
       "4      Not Disclosed by Recruiter  IT Software - Application Programming  "
      ]
     },
     "execution_count": 8,
     "metadata": {},
     "output_type": "execute_result"
    }
   ],
   "source": [
    "df.head()"
   ]
  },
  {
   "cell_type": "code",
   "execution_count": 9,
   "id": "e5e6ee55",
   "metadata": {},
   "outputs": [
    {
     "data": {
      "text/plain": [
       "company                    4\n",
       "education               1996\n",
       "experience                 4\n",
       "industry                   5\n",
       "joblocation_address      501\n",
       "numberofpositions      17536\n",
       "payrate                   97\n",
       "skills                   528\n",
       "dtype: int64"
      ]
     },
     "execution_count": 9,
     "metadata": {},
     "output_type": "execute_result"
    }
   ],
   "source": [
    "df.isnull().sum()"
   ]
  },
  {
   "cell_type": "markdown",
   "id": "c1bbec36",
   "metadata": {},
   "source": [
    "#### Analysising the \"Experience\" Coloumn"
   ]
  },
  {
   "cell_type": "code",
   "execution_count": 10,
   "id": "53c1d088",
   "metadata": {},
   "outputs": [
    {
     "data": {
      "text/plain": [
       "4"
      ]
     },
     "execution_count": 10,
     "metadata": {},
     "output_type": "execute_result"
    }
   ],
   "source": [
    "df.experience.isnull().sum()"
   ]
  },
  {
   "cell_type": "markdown",
   "id": "cc1a8ec9",
   "metadata": {},
   "source": [
    "There are 4 missing values in the coloumn, so we will try to fill the missing values with the help of mode."
   ]
  },
  {
   "cell_type": "code",
   "execution_count": 11,
   "id": "5d9860e8",
   "metadata": {},
   "outputs": [
    {
     "data": {
      "text/plain": [
       "2 - 7 yrs      1712\n",
       "2 - 5 yrs      1231\n",
       "3 - 8 yrs      1192\n",
       "3 - 5 yrs      1181\n",
       "5 - 10 yrs     1084\n",
       "1 - 3 yrs       755\n",
       "2 - 4 yrs       729\n",
       "4 - 9 yrs       715\n",
       "0 - 5 yrs       654\n",
       "3 - 6 yrs       613\n",
       "1 - 6 yrs       591\n",
       "0 - 3 yrs       556\n",
       "10 - 15 yrs     517\n",
       "0 - 1 yrs       509\n",
       "5 - 8 yrs       499\n",
       "Name: experience, dtype: int64"
      ]
     },
     "execution_count": 11,
     "metadata": {},
     "output_type": "execute_result"
    }
   ],
   "source": [
    "df.experience.value_counts()[:15]"
   ]
  },
  {
   "cell_type": "markdown",
   "id": "43670727",
   "metadata": {},
   "source": [
    "By value_counts() function, we got to know that '2-7 yrs' is he mode of the coloumn"
   ]
  },
  {
   "cell_type": "code",
   "execution_count": 12,
   "id": "b5f9cd9a",
   "metadata": {},
   "outputs": [],
   "source": [
    "# filling the missing value with the mode of this coloumns\n",
    "\n",
    "df.experience.fillna('2 - 7 yrs', inplace = True)"
   ]
  },
  {
   "cell_type": "code",
   "execution_count": 13,
   "id": "4ac908c2",
   "metadata": {},
   "outputs": [],
   "source": [
    "# Spliting the data before extracting the minimum and maximum year of experience\n",
    "\n",
    "year_experience=df.experience.str.split(' ')\n",
    "\n",
    "df['min_year_exp']=year_experience.apply(lambda x:x[0])\n",
    "\n",
    "df['max_year_exp']=year_experience.apply(lambda x:x[2] if len(x)>2 else x[0])"
   ]
  },
  {
   "cell_type": "markdown",
   "id": "7006e521",
   "metadata": {},
   "source": [
    "We are taking a table of job data, separating the experience values, and creating two new columns for the minimum and maximum years of experience, assuming a minimum value is always present and using it as the maximum if not specified."
   ]
  },
  {
   "cell_type": "code",
   "execution_count": 14,
   "id": "f1782f63",
   "metadata": {},
   "outputs": [
    {
     "data": {
      "text/plain": [
       "2      4534\n",
       "3      3497\n",
       "1      2733\n",
       "0      2603\n",
       "5      2174\n",
       "4      1995\n",
       "6      1030\n",
       "10      991\n",
       "8       830\n",
       "7       698\n",
       "12      214\n",
       "9       206\n",
       "15      201\n",
       "Not     111\n",
       "11       48\n",
       "13       41\n",
       "14       41\n",
       "20       19\n",
       "18       15\n",
       "16       11\n",
       "17        5\n",
       "23        1\n",
       "25        1\n",
       "26        1\n",
       "Name: min_year_exp, dtype: int64"
      ]
     },
     "execution_count": 14,
     "metadata": {},
     "output_type": "execute_result"
    }
   ],
   "source": [
    "# counts and shows how many times each different minimum years of experience appears in the DataFrame column \"min_year_exp\n",
    "\n",
    "df['min_year_exp'].value_counts()"
   ]
  },
  {
   "cell_type": "markdown",
   "id": "2270301b",
   "metadata": {},
   "source": [
    "In our data there are some rows with value \"Not\" that need to be replaced ,so we will see the whole row with value \"Not\" in experience coloumn before cleaning the data."
   ]
  },
  {
   "cell_type": "code",
   "execution_count": 17,
   "id": "033dab51",
   "metadata": {},
   "outputs": [
    {
     "data": {
      "text/plain": [
       "['Not Mentioned',\n",
       " 'Not Mentioned',\n",
       " 'Not Mentioned',\n",
       " 'Not Mentioned',\n",
       " 'Not Mentioned',\n",
       " 'Not Mentioned',\n",
       " 'Not Mentioned',\n",
       " 'Not Mentioned',\n",
       " 'Not Mentioned',\n",
       " 'Not Mentioned',\n",
       " 'Not Mentioned',\n",
       " 'Not Mentioned',\n",
       " 'Not Mentioned',\n",
       " 'Not Mentioned',\n",
       " 'Not Mentioned',\n",
       " 'Not Mentioned',\n",
       " 'Not Mentioned',\n",
       " 'Not Mentioned',\n",
       " 'Not Mentioned',\n",
       " 'Not Mentioned',\n",
       " 'Not Mentioned',\n",
       " 'Not Mentioned',\n",
       " 'Not Mentioned',\n",
       " 'Not Mentioned',\n",
       " 'Not Mentioned',\n",
       " 'Not Mentioned',\n",
       " 'Not Mentioned',\n",
       " 'Not Mentioned',\n",
       " 'Not Mentioned',\n",
       " 'Not Mentioned',\n",
       " 'Not Mentioned',\n",
       " 'Not Mentioned',\n",
       " 'Not Mentioned',\n",
       " 'Not Mentioned',\n",
       " 'Not Mentioned',\n",
       " 'Not Mentioned',\n",
       " 'Not Mentioned',\n",
       " 'Not Mentioned',\n",
       " 'Not Mentioned',\n",
       " 'Not Mentioned',\n",
       " 'Not Mentioned',\n",
       " 'Not Mentioned',\n",
       " 'Not Mentioned',\n",
       " 'Not Mentioned',\n",
       " 'Not Mentioned',\n",
       " 'Not Mentioned',\n",
       " 'Not Mentioned',\n",
       " 'Not Mentioned',\n",
       " 'Not Mentioned',\n",
       " 'Not Mentioned',\n",
       " 'Not Mentioned',\n",
       " 'Not Mentioned',\n",
       " 'Not Mentioned',\n",
       " 'Not Mentioned',\n",
       " 'Not Mentioned',\n",
       " 'Not Mentioned',\n",
       " 'Not Mentioned',\n",
       " 'Not Mentioned',\n",
       " 'Not Mentioned',\n",
       " 'Not Mentioned',\n",
       " 'Not Mentioned',\n",
       " 'Not Mentioned',\n",
       " 'Not Mentioned',\n",
       " 'Not Mentioned',\n",
       " 'Not Mentioned',\n",
       " 'Not Mentioned',\n",
       " 'Not Mentioned',\n",
       " 'Not Mentioned',\n",
       " 'Not Mentioned',\n",
       " 'Not Mentioned',\n",
       " 'Not Mentioned',\n",
       " 'Not Mentioned',\n",
       " 'Not Mentioned',\n",
       " 'Not Mentioned',\n",
       " 'Not Mentioned',\n",
       " 'Not Mentioned',\n",
       " 'Not Mentioned',\n",
       " 'Not Mentioned',\n",
       " 'Not Mentioned',\n",
       " 'Not Mentioned',\n",
       " 'Not Mentioned',\n",
       " 'Not Mentioned',\n",
       " 'Not Mentioned',\n",
       " 'Not Mentioned',\n",
       " 'Not Mentioned',\n",
       " 'Not Mentioned',\n",
       " 'Not Mentioned',\n",
       " 'Not Mentioned',\n",
       " 'Not Mentioned',\n",
       " 'Not Mentioned',\n",
       " 'Not Mentioned',\n",
       " 'Not Mentioned',\n",
       " 'Not Mentioned',\n",
       " 'Not Mentioned',\n",
       " 'Not Mentioned',\n",
       " 'Not Mentioned',\n",
       " 'Not Mentioned',\n",
       " 'Not Mentioned',\n",
       " 'Not Mentioned',\n",
       " 'Not Mentioned',\n",
       " 'Not Mentioned',\n",
       " 'Not Mentioned',\n",
       " 'Not Mentioned',\n",
       " 'Not Mentioned',\n",
       " 'Not Mentioned',\n",
       " 'Not Mentioned',\n",
       " 'Not Mentioned',\n",
       " 'Not Mentioned',\n",
       " 'Not Mentioned',\n",
       " 'Not Mentioned',\n",
       " 'Not Mentioned']"
      ]
     },
     "execution_count": 17,
     "metadata": {},
     "output_type": "execute_result"
    }
   ],
   "source": [
    "dirty_list=[]\n",
    "for i in range(len(df)):\n",
    "    if ('Not' in df.experience[i]):\n",
    "        dirty_list.append(df.experience[i])\n",
    "dirty_list"
   ]
  },
  {
   "cell_type": "markdown",
   "id": "14d374d3",
   "metadata": {},
   "source": [
    " It's finding and collecting all the rows in the DataFrame where the \"experience\" column contains the value \"Not\" and storing them in the list dirty_list for further analysis or cleaning."
   ]
  },
  {
   "cell_type": "code",
   "execution_count": 18,
   "id": "be85206f",
   "metadata": {},
   "outputs": [
    {
     "data": {
      "text/plain": [
       "2     4645\n",
       "3     3497\n",
       "1     2733\n",
       "0     2603\n",
       "5     2174\n",
       "4     1995\n",
       "6     1030\n",
       "10     991\n",
       "8      830\n",
       "7      698\n",
       "12     214\n",
       "9      206\n",
       "15     201\n",
       "11      48\n",
       "13      41\n",
       "14      41\n",
       "20      19\n",
       "18      15\n",
       "16      11\n",
       "17       5\n",
       "23       1\n",
       "25       1\n",
       "26       1\n",
       "Name: min_year_exp, dtype: int64"
      ]
     },
     "execution_count": 18,
     "metadata": {},
     "output_type": "execute_result"
    }
   ],
   "source": [
    "# Replace 'Not' with '2' as it is not mentioned\n",
    "\n",
    "df['min_year_exp']=np.where(df.min_year_exp=='Not','2',df.min_year_exp)\n",
    "\n",
    "df['min_year_exp'].value_counts()"
   ]
  },
  {
   "cell_type": "code",
   "execution_count": null,
   "id": "deadeacc",
   "metadata": {},
   "outputs": [],
   "source": []
  },
  {
   "cell_type": "code",
   "execution_count": 20,
   "id": "b9d87208",
   "metadata": {},
   "outputs": [
    {
     "data": {
      "text/plain": [
       "5      3720\n",
       "7      2732\n",
       "8      2332\n",
       "6      2110\n",
       "10     1823\n",
       "3      1768\n",
       "4      1547\n",
       "9      1039\n",
       "2       962\n",
       "12      702\n",
       "15      616\n",
       "11      581\n",
       "1       517\n",
       "13      420\n",
       "20      291\n",
       "0       173\n",
       "14      164\n",
       "Not     111\n",
       "18      104\n",
       "16       72\n",
       "17       68\n",
       "25       50\n",
       "22       36\n",
       "19       20\n",
       "23       13\n",
       "24        9\n",
       "21        7\n",
       "30        6\n",
       "28        4\n",
       "-1        1\n",
       "27        1\n",
       "26        1\n",
       "Name: max_year_exp, dtype: int64"
      ]
     },
     "execution_count": 20,
     "metadata": {},
     "output_type": "execute_result"
    }
   ],
   "source": [
    "# Need to do same with column max_year_exp\n",
    "\n",
    "df['max_year_exp'].value_counts()"
   ]
  },
  {
   "cell_type": "code",
   "execution_count": 21,
   "id": "81646618",
   "metadata": {},
   "outputs": [
    {
     "data": {
      "text/plain": [
       "5     3720\n",
       "7     2843\n",
       "8     2332\n",
       "6     2110\n",
       "10    1823\n",
       "3     1768\n",
       "4     1547\n",
       "9     1039\n",
       "2      962\n",
       "12     702\n",
       "15     616\n",
       "11     581\n",
       "1      518\n",
       "13     420\n",
       "20     291\n",
       "0      173\n",
       "14     164\n",
       "18     104\n",
       "16      72\n",
       "17      68\n",
       "25      50\n",
       "22      36\n",
       "19      20\n",
       "23      13\n",
       "24       9\n",
       "21       7\n",
       "30       6\n",
       "28       4\n",
       "27       1\n",
       "26       1\n",
       "Name: max_year_exp, dtype: int64"
      ]
     },
     "execution_count": 21,
     "metadata": {},
     "output_type": "execute_result"
    }
   ],
   "source": [
    "# There are rows with value 'Not' and '-1'. We will replace value 'Not' with '7' and value '-1' with 1\n",
    "\n",
    "df['max_year_exp']=np.where(df.max_year_exp=='Not','7',df.max_year_exp)\n",
    "\n",
    "df['max_year_exp']=np.where(df.max_year_exp=='-1','1',df.max_year_exp)\n",
    "\n",
    "df['max_year_exp'].value_counts()\n"
   ]
  },
  {
   "cell_type": "code",
   "execution_count": 22,
   "id": "e2508429",
   "metadata": {},
   "outputs": [],
   "source": [
    "# Changing the dtype from string to integer in column min_year_exp and max_year_exp\n",
    "\n",
    "df['min_year_exp']=df['min_year_exp'].astype(int)\n",
    "\n",
    "df['max_year_exp']=df['max_year_exp'].astype(int)"
   ]
  },
  {
   "cell_type": "code",
   "execution_count": 23,
   "id": "4d521bf6",
   "metadata": {},
   "outputs": [
    {
     "data": {
      "image/png": "[encoded data removed]",
      "text/plain": [
       "<Figure size 1152x432 with 2 Axes>"
      ]
     },
     "metadata": {},
     "output_type": "display_data"
    }
   ],
   "source": [
    "# We will check the distribution in both columns\n",
    "\n",
    "plt.figure(figsize=(16,6))\n",
    "plt.subplot(1,2,1)\n",
    "sns.countplot(df.min_year_exp,palette='rocket')\n",
    "plt.xticks(range(0,20))\n",
    "plt.title(\"Distribution of Minimal Year Experience\",weight='bold',size=18)\n",
    "plt.subplot(1,2,2)\n",
    "sns.countplot(df.max_year_exp,palette='rocket')\n",
    "plt.xticks(range(0,26))\n",
    "plt.title(\"Distribution of Maximal Year Experience\",weight='bold',size=18)\n",
    "plt.show()"
   ]
  },
  {
   "cell_type": "markdown",
   "id": "187d2148",
   "metadata": {},
   "source": [
    "\n",
    "Based on the information displayed in the plot above, it is apparent that the most frequent minimum years of experience required for job openings is 2 years, while the most common maximum years of experience required is 5 years."
   ]
  },
  {
   "cell_type": "markdown",
   "id": "ecdcddaa",
   "metadata": {},
   "source": [
    "#### Analysising the \"Education\" Coloumn"
   ]
  },
  {
   "cell_type": "code",
   "execution_count": 24,
   "id": "d8fee9e7",
   "metadata": {},
   "outputs": [
    {
     "data": {
      "text/plain": [
       "array(['UG: B.Tech/B.E. - Any Specialization PG:Any Postgraduate - Any Specialization, Post Graduation Not Required',\n",
       "       'UG: B.Tech/B.E. - Any Specialization PG:MBA/PGDM - Any Specialization',\n",
       "       'UG: Any Graduate - Any Specialization PG:Any Postgraduate Doctorate:Doctorate Not Required',\n",
       "       ..., 'PG:MS/M.Sc(Science) - Any Specialization, Statistics',\n",
       "       'UG: B.Tech/B.E. - Any Specialization PG:MCA - Computers, M.Tech - Any Specialization, MS/M.Sc(Science) - Any Specialization Doctorate:Doctorate Not Required',\n",
       "       'UG: B.Tech/B.E. - Computers PG:MS/M.Sc(Science) - Computers Doctorate:Doctorate Not Required'],\n",
       "      dtype=object)"
      ]
     },
     "execution_count": 24,
     "metadata": {},
     "output_type": "execute_result"
    }
   ],
   "source": [
    "# checking the unique education\n",
    "\n",
    "df.education.unique()"
   ]
  },
  {
   "cell_type": "code",
   "execution_count": 25,
   "id": "1a2cf16b",
   "metadata": {},
   "outputs": [
    {
     "data": {
      "text/plain": [
       "1996"
      ]
     },
     "execution_count": 25,
     "metadata": {},
     "output_type": "execute_result"
    }
   ],
   "source": [
    "# checking the missing values\n",
    "\n",
    "df.education.isnull().sum()"
   ]
  },
  {
   "cell_type": "code",
   "execution_count": 26,
   "id": "b112b412",
   "metadata": {},
   "outputs": [],
   "source": [
    "# Repalcing the missing values with 'UG: Any Graduate - Any Specialization'\n",
    "\n",
    "df.education.fillna('UG: Any Graduate - Any Specialization', inplace = True)"
   ]
  },
  {
   "cell_type": "markdown",
   "id": "a5f84f64",
   "metadata": {},
   "source": [
    "We want to know the most needed Bachelor Degrees by companies for that first,we will replace \"PG\" and \"Doctorate\" with delimiter \"|\" so  that we can split the value with delimiter. Then we will extract the first value in the list which is Bachelor Degree required for the job"
   ]
  },
  {
   "cell_type": "code",
   "execution_count": 29,
   "id": "c4fa10da",
   "metadata": {},
   "outputs": [
    {
     "data": {
      "text/plain": [
       "UG: Any Graduate - Any Specialization                                      6962\n",
       "UG: Any Graduate                                                           4055\n",
       "UG: B.Tech/B.E.                                                            4032\n",
       "UG: Any Graduate - Any Specialization, Graduation Not Required             2205\n",
       "UG: B.Tech/B.E. - Any Specialization                                        753\n",
       "UG: B.Tech/B.E. - Computers                                                 397\n",
       "UG: B.Com                                                                   240\n",
       "UG: Diploma                                                                 163\n",
       "UG: B.B.A                                                                   149\n",
       "UG: B.Com - Commerce                                                        148\n",
       "UG: Any Graduate - Any Specialization, B.Tech/B.E. - Any Specialization     139\n",
       "UG: B.Sc                                                                    110\n",
       "UG: B.A                                                                      96\n",
       "UG: Graduation Not Required                                                  88\n",
       "UG: BCA                                                                      82\n",
       "Name: education, dtype: int64"
      ]
     },
     "execution_count": 29,
     "metadata": {},
     "output_type": "execute_result"
    }
   ],
   "source": [
    "df_edu=df.education.apply(lambda x:x.replace(\" PG:\",\"|\")).apply(lambda x:x.replace(\" Doctorate:\",\"|\"))\n",
    "\n",
    "df_edu=df_edu.apply(lambda x:x.split(\"|\"))\n",
    "\n",
    "df_edu=df_edu.apply(lambda x:x[0])\n",
    "\n",
    "df_edu.value_counts()[:15]"
   ]
  },
  {
   "cell_type": "markdown",
   "id": "3715f002",
   "metadata": {},
   "source": [
    "From the data extracted above, we see that some data has the same meaning but has different name \n",
    "so I am going to replace it with the same name"
   ]
  },
  {
   "cell_type": "code",
   "execution_count": 30,
   "id": "a9dd353e",
   "metadata": {},
   "outputs": [],
   "source": [
    "\n",
    "df_edu=df_edu.apply(lambda x:x.replace(\"UG: Any Graduate - Any Specialization\",\"UG: Any Graduate\"))\n",
    "df_edu=df_edu.apply(lambda x:x.replace(\"UG: Any Graduate - Any Specialization, Graduation Not Required\",\"UG: Any Graduate\"))\n",
    "df_edu=df_edu.apply(lambda x:x.replace(\"UG: Any Graduate, Graduation Not Required\",\"UG: Any Graduate\"))\n",
    "df_edu=df_edu.apply(lambda x:x.replace(\"B.Tech/B.E. - Any Specialization\",\"UG: B.Tech/B.E.\"))\n",
    "df_edu=df_edu.apply(lambda x:x.replace(\"UG: UG: B.Tech/B.E.\",\"UG: B.Tech/B.E.\"))\n",
    "df_edu=df_edu.apply(lambda x:x.replace(\"UG: Graduation Not Required\",\"UG: Any Graduate\"))\n",
    "df_edu=df_edu.apply(lambda x:x.replace(\"UG: Any Graduate, UG: B.Tech/B.E.\",\"UG: B.Tech/B.E.\"))\n",
    "df_edu=df_edu.apply(lambda x:x.replace(\"UG: B.Tech/B.E., Computers\",\"UG: B.Tech/B.E. - Computers\"))\n",
    "df_edu=df_edu.apply(lambda x:x.replace(\"UG: B.Tech/B.E., Computers\",\"UG: B.Tech/B.E. - Computers\"))\n",
    "df_edu=df_edu.apply(lambda x:x.replace(\"UG: B.Com - Commerce\",\"UG: B.Com\"))\n",
    "df_edu=df_edu.apply(lambda x:x.replace(\"UG: \",\"\"))"
   ]
  },
  {
   "cell_type": "code",
   "execution_count": 31,
   "id": "a0ca866f",
   "metadata": {},
   "outputs": [
    {
     "data": {
      "text/html": [
       "<div>\n",
       "<style scoped>\n",
       "    .dataframe tbody tr th:only-of-type {\n",
       "        vertical-align: middle;\n",
       "    }\n",
       "\n",
       "    .dataframe tbody tr th {\n",
       "        vertical-align: top;\n",
       "    }\n",
       "\n",
       "    .dataframe thead th {\n",
       "        text-align: right;\n",
       "    }\n",
       "</style>\n",
       "<table border=\"1\" class=\"dataframe\">\n",
       "  <thead>\n",
       "    <tr style=\"text-align: right;\">\n",
       "      <th></th>\n",
       "      <th>degree</th>\n",
       "    </tr>\n",
       "  </thead>\n",
       "  <tbody>\n",
       "    <tr>\n",
       "      <th>Any Graduate</th>\n",
       "      <td>13354</td>\n",
       "    </tr>\n",
       "    <tr>\n",
       "      <th>B.Tech/B.E.</th>\n",
       "      <td>4947</td>\n",
       "    </tr>\n",
       "    <tr>\n",
       "      <th>B.Tech/B.E. - Computers</th>\n",
       "      <td>483</td>\n",
       "    </tr>\n",
       "    <tr>\n",
       "      <th>B.Com</th>\n",
       "      <td>388</td>\n",
       "    </tr>\n",
       "    <tr>\n",
       "      <th>Diploma</th>\n",
       "      <td>163</td>\n",
       "    </tr>\n",
       "    <tr>\n",
       "      <th>B.B.A</th>\n",
       "      <td>149</td>\n",
       "    </tr>\n",
       "    <tr>\n",
       "      <th>B.Sc</th>\n",
       "      <td>110</td>\n",
       "    </tr>\n",
       "    <tr>\n",
       "      <th>B.A</th>\n",
       "      <td>96</td>\n",
       "    </tr>\n",
       "    <tr>\n",
       "      <th>BCA</th>\n",
       "      <td>82</td>\n",
       "    </tr>\n",
       "    <tr>\n",
       "      <th>B.Ed</th>\n",
       "      <td>62</td>\n",
       "    </tr>\n",
       "  </tbody>\n",
       "</table>\n",
       "</div>"
      ],
      "text/plain": [
       "                         degree\n",
       "Any Graduate              13354\n",
       "B.Tech/B.E.                4947\n",
       "B.Tech/B.E. - Computers     483\n",
       "B.Com                       388\n",
       "Diploma                     163\n",
       "B.B.A                       149\n",
       "B.Sc                        110\n",
       "B.A                          96\n",
       "BCA                          82\n",
       "B.Ed                         62"
      ]
     },
     "execution_count": 31,
     "metadata": {},
     "output_type": "execute_result"
    }
   ],
   "source": [
    "df[\"degree\"]=df_edu\n",
    "top_10_degree=pd.DataFrame(df.degree.value_counts()[:10])\n",
    "top_10_degree"
   ]
  },
  {
   "cell_type": "code",
   "execution_count": 33,
   "id": "a2f2406a",
   "metadata": {},
   "outputs": [
    {
     "data": {
      "image/png": "[encoded data removed]",
      "text/plain": [
       "<Figure size 864x576 with 1 Axes>"
      ]
     },
     "metadata": {},
     "output_type": "display_data"
    }
   ],
   "source": [
    "plt.figure(figsize=(12,8))\n",
    "sns.barplot(y=top_10_degree.index,x=top_10_degree.degree,palette='viridis')\n",
    "plt.title(\"10 Most In-Demand Degrees in Job Vacancies\",weight='bold',size=18)\n",
    "plt.xticks(size=12,weight='bold')\n",
    "plt.yticks(size=12,weight='bold')\n",
    "plt.show()"
   ]
  },
  {
   "cell_type": "markdown",
   "id": "5bfea373",
   "metadata": {},
   "source": [
    "Based on the chart provided above, it is evident that a majority of job vacancies do not require a specific specialization and are open to candidates with degrees in any field. However, for positions that demand specific expertise, the most sought-after bachelor's degrees are Bachelor of Technology, Bachelor of Engineering, and Bachelor of Commerce."
   ]
  },
  {
   "cell_type": "markdown",
   "id": "f106cf29",
   "metadata": {},
   "source": [
    "#### Analysising the \"Industry\" Coloumn"
   ]
  },
  {
   "cell_type": "code",
   "execution_count": 34,
   "id": "8004b4d5",
   "metadata": {},
   "outputs": [
    {
     "data": {
      "text/plain": [
       "5"
      ]
     },
     "execution_count": 34,
     "metadata": {},
     "output_type": "execute_result"
    }
   ],
   "source": [
    "# Checking the missing values\n",
    "\n",
    "df.industry.isnull().sum()"
   ]
  },
  {
   "cell_type": "code",
   "execution_count": 35,
   "id": "92143b8f",
   "metadata": {},
   "outputs": [
    {
     "data": {
      "text/html": [
       "<div>\n",
       "<style scoped>\n",
       "    .dataframe tbody tr th:only-of-type {\n",
       "        vertical-align: middle;\n",
       "    }\n",
       "\n",
       "    .dataframe tbody tr th {\n",
       "        vertical-align: top;\n",
       "    }\n",
       "\n",
       "    .dataframe thead th {\n",
       "        text-align: right;\n",
       "    }\n",
       "</style>\n",
       "<table border=\"1\" class=\"dataframe\">\n",
       "  <thead>\n",
       "    <tr style=\"text-align: right;\">\n",
       "      <th></th>\n",
       "      <th>company</th>\n",
       "      <th>education</th>\n",
       "      <th>experience</th>\n",
       "      <th>industry</th>\n",
       "      <th>joblocation_address</th>\n",
       "      <th>numberofpositions</th>\n",
       "      <th>payrate</th>\n",
       "      <th>skills</th>\n",
       "      <th>min_year_exp</th>\n",
       "      <th>max_year_exp</th>\n",
       "      <th>degree</th>\n",
       "    </tr>\n",
       "  </thead>\n",
       "  <tbody>\n",
       "    <tr>\n",
       "      <th>3768</th>\n",
       "      <td>NaN</td>\n",
       "      <td>UG: Any Graduate - Any Specialization</td>\n",
       "      <td>2 - 7 yrs</td>\n",
       "      <td>NaN</td>\n",
       "      <td>NaN</td>\n",
       "      <td>NaN</td>\n",
       "      <td>NaN</td>\n",
       "      <td>NaN</td>\n",
       "      <td>2</td>\n",
       "      <td>7</td>\n",
       "      <td>Any Graduate</td>\n",
       "    </tr>\n",
       "    <tr>\n",
       "      <th>4026</th>\n",
       "      <td>NaN</td>\n",
       "      <td>UG: Any Graduate - Any Specialization</td>\n",
       "      <td>2 - 7 yrs</td>\n",
       "      <td>NaN</td>\n",
       "      <td>NaN</td>\n",
       "      <td>NaN</td>\n",
       "      <td>NaN</td>\n",
       "      <td>NaN</td>\n",
       "      <td>2</td>\n",
       "      <td>7</td>\n",
       "      <td>Any Graduate</td>\n",
       "    </tr>\n",
       "    <tr>\n",
       "      <th>4389</th>\n",
       "      <td>NaN</td>\n",
       "      <td>UG: Any Graduate - Any Specialization</td>\n",
       "      <td>2 - 7 yrs</td>\n",
       "      <td>NaN</td>\n",
       "      <td>NaN</td>\n",
       "      <td>NaN</td>\n",
       "      <td>NaN</td>\n",
       "      <td>NaN</td>\n",
       "      <td>2</td>\n",
       "      <td>7</td>\n",
       "      <td>Any Graduate</td>\n",
       "    </tr>\n",
       "    <tr>\n",
       "      <th>4841</th>\n",
       "      <td>NaN</td>\n",
       "      <td>UG: Any Graduate - Any Specialization</td>\n",
       "      <td>2 - 7 yrs</td>\n",
       "      <td>NaN</td>\n",
       "      <td>NaN</td>\n",
       "      <td>NaN</td>\n",
       "      <td>NaN</td>\n",
       "      <td>NaN</td>\n",
       "      <td>2</td>\n",
       "      <td>7</td>\n",
       "      <td>Any Graduate</td>\n",
       "    </tr>\n",
       "    <tr>\n",
       "      <th>18578</th>\n",
       "      <td>RBS India Development Centre (P) Ltd.</td>\n",
       "      <td>UG: Any Graduate - Any Specialization</td>\n",
       "      <td>2 - 5 yrs</td>\n",
       "      <td>NaN</td>\n",
       "      <td>Gurgaon , haryana</td>\n",
       "      <td>NaN</td>\n",
       "      <td>NaN</td>\n",
       "      <td>NaN</td>\n",
       "      <td>2</td>\n",
       "      <td>5</td>\n",
       "      <td>Any Graduate</td>\n",
       "    </tr>\n",
       "  </tbody>\n",
       "</table>\n",
       "</div>"
      ],
      "text/plain": [
       "                                     company  \\\n",
       "3768                                     NaN   \n",
       "4026                                     NaN   \n",
       "4389                                     NaN   \n",
       "4841                                     NaN   \n",
       "18578  RBS India Development Centre (P) Ltd.   \n",
       "\n",
       "                                   education experience industry  \\\n",
       "3768   UG: Any Graduate - Any Specialization  2 - 7 yrs      NaN   \n",
       "4026   UG: Any Graduate - Any Specialization  2 - 7 yrs      NaN   \n",
       "4389   UG: Any Graduate - Any Specialization  2 - 7 yrs      NaN   \n",
       "4841   UG: Any Graduate - Any Specialization  2 - 7 yrs      NaN   \n",
       "18578  UG: Any Graduate - Any Specialization  2 - 5 yrs      NaN   \n",
       "\n",
       "      joblocation_address  numberofpositions payrate skills  min_year_exp  \\\n",
       "3768                  NaN                NaN     NaN    NaN             2   \n",
       "4026                  NaN                NaN     NaN    NaN             2   \n",
       "4389                  NaN                NaN     NaN    NaN             2   \n",
       "4841                  NaN                NaN     NaN    NaN             2   \n",
       "18578   Gurgaon , haryana                NaN     NaN    NaN             2   \n",
       "\n",
       "       max_year_exp        degree  \n",
       "3768              7  Any Graduate  \n",
       "4026              7  Any Graduate  \n",
       "4389              7  Any Graduate  \n",
       "4841              7  Any Graduate  \n",
       "18578             5  Any Graduate  "
      ]
     },
     "execution_count": 35,
     "metadata": {},
     "output_type": "execute_result"
    }
   ],
   "source": [
    "df[df.industry.isnull()]"
   ]
  },
  {
   "cell_type": "code",
   "execution_count": 36,
   "id": "cc438fbb",
   "metadata": {},
   "outputs": [
    {
     "data": {
      "text/plain": [
       "0"
      ]
     },
     "execution_count": 36,
     "metadata": {},
     "output_type": "execute_result"
    }
   ],
   "source": [
    "# Replacing NaN values with the mode\n",
    "\n",
    "df.industry.fillna(df.industry.mode()[0],inplace=True)\n",
    "df.industry.isnull().sum()"
   ]
  },
  {
   "cell_type": "code",
   "execution_count": 43,
   "id": "e41ab949",
   "metadata": {},
   "outputs": [
    {
     "data": {
      "text/html": [
       "<style type=\"text/css\">\n",
       "#T_947cf_row0_col0 {\n",
       "  background-color: #000000;\n",
       "  color: #f1f1f1;\n",
       "}\n",
       "#T_947cf_row1_col0 {\n",
       "  background-color: #f1f1f1;\n",
       "  color: #000000;\n",
       "}\n",
       "#T_947cf_row2_col0, #T_947cf_row3_col0 {\n",
       "  background-color: #f2f2f2;\n",
       "  color: #000000;\n",
       "}\n",
       "#T_947cf_row4_col0 {\n",
       "  background-color: #f4f4f4;\n",
       "  color: #000000;\n",
       "}\n",
       "#T_947cf_row5_col0 {\n",
       "  background-color: #f9f9f9;\n",
       "  color: #000000;\n",
       "}\n",
       "#T_947cf_row6_col0, #T_947cf_row7_col0 {\n",
       "  background-color: #fcfcfc;\n",
       "  color: #000000;\n",
       "}\n",
       "#T_947cf_row8_col0, #T_947cf_row9_col0 {\n",
       "  background-color: #fdfdfd;\n",
       "  color: #000000;\n",
       "}\n",
       "#T_947cf_row10_col0, #T_947cf_row11_col0 {\n",
       "  background-color: #fefefe;\n",
       "  color: #000000;\n",
       "}\n",
       "#T_947cf_row12_col0, #T_947cf_row13_col0, #T_947cf_row14_col0 {\n",
       "  background-color: #ffffff;\n",
       "  color: #000000;\n",
       "}\n",
       "</style>\n",
       "<table id=\"T_947cf\">\n",
       "  <thead>\n",
       "    <tr>\n",
       "      <th class=\"blank level0\" >&nbsp;</th>\n",
       "      <th id=\"T_947cf_level0_col0\" class=\"col_heading level0 col0\" >industry</th>\n",
       "    </tr>\n",
       "  </thead>\n",
       "  <tbody>\n",
       "    <tr>\n",
       "      <th id=\"T_947cf_level0_row0\" class=\"row_heading level0 row0\" >IT-Software / Software Services</th>\n",
       "      <td id=\"T_947cf_row0_col0\" class=\"data row0 col0\" >9221</td>\n",
       "    </tr>\n",
       "    <tr>\n",
       "      <th id=\"T_947cf_level0_row1\" class=\"row_heading level0 row1\" >Education / Teaching / Training</th>\n",
       "      <td id=\"T_947cf_row1_col0\" class=\"data row1 col0\" >1322</td>\n",
       "    </tr>\n",
       "    <tr>\n",
       "      <th id=\"T_947cf_level0_row2\" class=\"row_heading level0 row2\" >BPO / Call Centre / ITES</th>\n",
       "      <td id=\"T_947cf_row2_col0\" class=\"data row2 col0\" >1254</td>\n",
       "    </tr>\n",
       "    <tr>\n",
       "      <th id=\"T_947cf_level0_row3\" class=\"row_heading level0 row3\" >Banking / Financial Services / Broking</th>\n",
       "      <td id=\"T_947cf_row3_col0\" class=\"data row3 col0\" >1238</td>\n",
       "    </tr>\n",
       "    <tr>\n",
       "      <th id=\"T_947cf_level0_row4\" class=\"row_heading level0 row4\" >Recruitment / Staffing</th>\n",
       "      <td id=\"T_947cf_row4_col0\" class=\"data row4 col0\" >1129</td>\n",
       "    </tr>\n",
       "    <tr>\n",
       "      <th id=\"T_947cf_level0_row5\" class=\"row_heading level0 row5\" >Internet / Ecommerce</th>\n",
       "      <td id=\"T_947cf_row5_col0\" class=\"data row5 col0\" >738</td>\n",
       "    </tr>\n",
       "    <tr>\n",
       "      <th id=\"T_947cf_level0_row6\" class=\"row_heading level0 row6\" >Pharma / Biotech / Clinical Research</th>\n",
       "      <td id=\"T_947cf_row6_col0\" class=\"data row6 col0\" >525</td>\n",
       "    </tr>\n",
       "    <tr>\n",
       "      <th id=\"T_947cf_level0_row7\" class=\"row_heading level0 row7\" >Medical / Healthcare / Hospitals</th>\n",
       "      <td id=\"T_947cf_row7_col0\" class=\"data row7 col0\" >495</td>\n",
       "    </tr>\n",
       "    <tr>\n",
       "      <th id=\"T_947cf_level0_row8\" class=\"row_heading level0 row8\" >Automobile / Auto Anciliary / Auto Components</th>\n",
       "      <td id=\"T_947cf_row8_col0\" class=\"data row8 col0\" >478</td>\n",
       "    </tr>\n",
       "    <tr>\n",
       "      <th id=\"T_947cf_level0_row9\" class=\"row_heading level0 row9\" >Construction / Engineering / Cement / Metals</th>\n",
       "      <td id=\"T_947cf_row9_col0\" class=\"data row9 col0\" >449</td>\n",
       "    </tr>\n",
       "    <tr>\n",
       "      <th id=\"T_947cf_level0_row10\" class=\"row_heading level0 row10\" >Travel / Hotels / Restaurants / Airlines / Railways</th>\n",
       "      <td id=\"T_947cf_row10_col0\" class=\"data row10 col0\" >369</td>\n",
       "    </tr>\n",
       "    <tr>\n",
       "      <th id=\"T_947cf_level0_row11\" class=\"row_heading level0 row11\" >Strategy / Management Consulting Firms</th>\n",
       "      <td id=\"T_947cf_row11_col0\" class=\"data row11 col0\" >356</td>\n",
       "    </tr>\n",
       "    <tr>\n",
       "      <th id=\"T_947cf_level0_row12\" class=\"row_heading level0 row12\" >Other</th>\n",
       "      <td id=\"T_947cf_row12_col0\" class=\"data row12 col0\" >339</td>\n",
       "    </tr>\n",
       "    <tr>\n",
       "      <th id=\"T_947cf_level0_row13\" class=\"row_heading level0 row13\" >Industrial Products / Heavy Machinery</th>\n",
       "      <td id=\"T_947cf_row13_col0\" class=\"data row13 col0\" >307</td>\n",
       "    </tr>\n",
       "    <tr>\n",
       "      <th id=\"T_947cf_level0_row14\" class=\"row_heading level0 row14\" >Media / Entertainment / Internet</th>\n",
       "      <td id=\"T_947cf_row14_col0\" class=\"data row14 col0\" >275</td>\n",
       "    </tr>\n",
       "  </tbody>\n",
       "</table>\n"
      ],
      "text/plain": [
       "<pandas.io.formats.style.Styler at 0x142d9aaffd0>"
      ]
     },
     "metadata": {},
     "output_type": "display_data"
    }
   ],
   "source": [
    "# to display the 15 most popular industries in Job Vacancies\n",
    "\n",
    "display(pd.DataFrame(df.industry.value_counts()[:15]).style.background_gradient(cmap=\"Greys\"))"
   ]
  },
  {
   "cell_type": "markdown",
   "id": "c2c0ca9b",
   "metadata": {},
   "source": [
    "With over 9000 job openings, it's evident that the Technology industry stands out as the most sought-after sector. The demand in this field significantly surpasses any other industry, with the closest contender being Education/Teaching/Training, followed closely by BPO/Call Centre/ITES."
   ]
  },
  {
   "cell_type": "markdown",
   "id": "3ff8c40d",
   "metadata": {},
   "source": [
    "#### Analysising the \"Job Address\" Coloumn"
   ]
  },
  {
   "cell_type": "code",
   "execution_count": 44,
   "id": "1fd01337",
   "metadata": {},
   "outputs": [
    {
     "data": {
      "text/plain": [
       "0                                              Chennai\n",
       "1                                              Chennai\n",
       "2                                            Bengaluru\n",
       "3    Mumbai, Bengaluru, Kolkata, Chennai, Coimbator...\n",
       "4                                            Bengaluru\n",
       "Name: joblocation_address, dtype: object"
      ]
     },
     "execution_count": 44,
     "metadata": {},
     "output_type": "execute_result"
    }
   ],
   "source": [
    "df.joblocation_address.head()"
   ]
  },
  {
   "cell_type": "code",
   "execution_count": 46,
   "id": "f2a4fe34",
   "metadata": {},
   "outputs": [
    {
     "data": {
      "text/plain": [
       "Bengaluru/Bangalore                            3775\n",
       "Mumbai                                         2348\n",
       "Bengaluru                                      1453\n",
       "Hyderabad / Secunderabad                       1246\n",
       "Chennai                                        1204\n",
       "Hyderabad                                       936\n",
       "Noida                                           775\n",
       "Delhi                                           763\n",
       "Gurgaon                                         743\n",
       "Mumbai , Mumbai                                 514\n",
       "Delhi/NCR(National Capital Region)              383\n",
       "Bengaluru/Bangalore , Bengaluru / Bangalore     360\n",
       "Delhi , Delhi                                   324\n",
       "Noida , Noida/Greater Noida                     313\n",
       "Gurgaon , Gurgaon                               148\n",
       "Name: joblocation_address, dtype: int64"
      ]
     },
     "execution_count": 46,
     "metadata": {},
     "output_type": "execute_result"
    }
   ],
   "source": [
    "df.joblocation_address.value_counts()[:15]"
   ]
  },
  {
   "cell_type": "code",
   "execution_count": 47,
   "id": "9de95a8a",
   "metadata": {},
   "outputs": [
    {
     "data": {
      "text/plain": [
       "501"
      ]
     },
     "execution_count": 47,
     "metadata": {},
     "output_type": "execute_result"
    }
   ],
   "source": [
    "df.joblocation_address.isnull().sum()"
   ]
  },
  {
   "cell_type": "code",
   "execution_count": 48,
   "id": "6c337c88",
   "metadata": {},
   "outputs": [],
   "source": [
    "# I'm going to fill the NaN values with \"Not Mentioned.\" \n",
    "# The reason for not using the mode (most common value) is that there are a substantial number of missing values, \n",
    "# and they can vary greatly. I want to ensure that filling the missing values doesn't impact the focus of our analysis.\n",
    "\n",
    "df.joblocation_address.fillna('Not Mentioned',inplace=True)"
   ]
  },
  {
   "cell_type": "code",
   "execution_count": 49,
   "id": "0f97faec",
   "metadata": {},
   "outputs": [],
   "source": [
    "# There are certain addresses with equivalent meanings but different names, such as \"Bengalore\" and \"Bengaluru.\" \n",
    "# We will correct this inconsistency to ensure uniformity in the data.\n",
    "\n",
    "df['loc']=df.joblocation_address\n",
    "df['loc']=df['loc'].apply(lambda x:x.replace(\"Bengaluru/Bangalore\",\"Bengaluru\"))\n",
    "df['loc']=df['loc'].apply(lambda x:x.replace(\"Bangalore\",\"Bengaluru\"))\n",
    "df['loc']=df['loc'].apply(lambda x:x.replace(\"Bengaluru/Bangalore , Bengaluru / Bangalore\",\"Bengaluru\"))\n",
    "df['loc']=df['loc'].apply(lambda x:x.replace(\"Mumbai , Mumbai\",\"Mumbai\"))\n",
    "df['loc']=df['loc'].apply(lambda x:x.replace(\"Delhi , Delhi\",\"Delhi\"))\n",
    "df['loc']=df['loc'].apply(lambda x:x.replace(\"Delhi/NCR(National Capital Region)\",\"Delhi\"))\n",
    "df['loc']=df['loc'].apply(lambda x:x.replace(\"Delhi/NCR(National Capital Region)\",\"Delhi\"))\n",
    "df['loc']=df['loc'].apply(lambda x:x.replace(\"Noida , Noida/Greater Noida\",\"Noida\"))\n",
    "df['loc']=df['loc'].apply(lambda x:x.replace(\"Gurgaon , Gurgaon\",\"Gurgaon\"))\n",
    "df['loc']=df['loc'].apply(lambda x:x.replace(\"Bengaluru , Bengaluru / Bangalore\",\"Bengaluru\"))\n",
    "df['loc']=df['loc'].apply(lambda x:x.replace(\"Hyderabad / Secunderabad , Hyderabad/Secunderabad\",\"Hyderabad / Secunderabad\"))\n",
    "df['loc']=df['loc'].apply(lambda x:x.replace(\"Hyderabad / Secunderabad\",\"Hyderabad\"))\n",
    "df['loc']=df['loc'].apply(lambda x:x.replace(\"Delhi NCR\",\"Delhi\"))\n",
    "df['loc']=df['loc'].apply(lambda x:x.replace(\"Bengaluru / Bangalore\",\"Bengaluru\"))\n",
    "df['loc']=df['loc'].apply(lambda x:x.replace(\"Delhi/NCR\",\"Delhi\"))\n",
    "df['loc']=df['loc'].apply(lambda x:x.replace(\"Greater Noida\",\"Noida\"))\n",
    "df['loc']=df['loc'].apply(lambda x:x.replace(\"Greater Noida\",\"Noida\"))\n",
    "df['loc']=df['loc'].apply(lambda x:x.replace('Noida/Noida',\"Noida\"))\n",
    "df['loc']=df['loc'].apply(lambda x:x.replace(\"mumbai\",\"Mumbai\"))\n",
    "df['loc']=df['loc'].apply(lambda x:x.replace(\"Hyderabad/Secunderabad\",\"Hyderabad\"))\n",
    "df['loc']=df['loc'].apply(lambda x:x.replace(\"Bengaluru / Bengaluru\",\"Bengaluru\"))"
   ]
  },
  {
   "cell_type": "code",
   "execution_count": 50,
   "id": "766d88e2",
   "metadata": {},
   "outputs": [
    {
     "data": {
      "text/plain": [
       "0                                                [Chennai]\n",
       "1                                                [Chennai]\n",
       "2                                              [Bengaluru]\n",
       "3        [Mumbai, Bengaluru, Kolkata, Chennai, Coimbato...\n",
       "4                                              [Bengaluru]\n",
       "                               ...                        \n",
       "21995                                          [Bengaluru]\n",
       "21996                                 [Bengaluru, Gurgaon]\n",
       "21997                                          [Bengaluru]\n",
       "21998                                   [Delhi, Bengaluru]\n",
       "21999                                          [Bengaluru]\n",
       "Name: loc, Length: 22000, dtype: object"
      ]
     },
     "execution_count": 50,
     "metadata": {},
     "output_type": "execute_result"
    }
   ],
   "source": [
    "# It appears that some jobs are available in multiple locations. \n",
    "# To prepare for visualization, we'll need to split the values in this column to ensure accurate representation.\n",
    "\n",
    "address=[]\n",
    "df['loc']=df['loc'].apply(lambda x:x.replace(\" , \",\", \"))\n",
    "df['loc']=df['loc'].apply(lambda x:x.split(\", \"))\n",
    "df['loc']"
   ]
  },
  {
   "cell_type": "code",
   "execution_count": 51,
   "id": "b1c59429",
   "metadata": {},
   "outputs": [
    {
     "data": {
      "image/png": "[encoded data removed]",
      "text/plain": [
       "<Figure size 864x576 with 1 Axes>"
      ]
     },
     "metadata": {},
     "output_type": "display_data"
    }
   ],
   "source": [
    "# Next, we will extract each location in each row using the \"explode\" function. \n",
    "# This will help us analyze and visualize the data more effectively, especially when jobs are available in multiple locations.\n",
    "\n",
    "x=df['loc'].explode()\n",
    "top_15_location=pd.DataFrame(x.value_counts()[:15])\n",
    "top_15_location.columns=[\"Count\"]\n",
    "\n",
    "plt.figure(figsize=(12,8))\n",
    "sns.barplot(y=top_15_location.index,x=top_15_location.Count,palette=\"cividis\")\n",
    "plt.title(\"15 Cities with Highest Job Opportunities in India\",weight='bold', size=18)\n",
    "plt.xticks(size=12,weight='bold')\n",
    "plt.yticks(size=12,weight='bold')\n",
    "plt.show()"
   ]
  },
  {
   "cell_type": "markdown",
   "id": "7acb5a2e",
   "metadata": {},
   "source": [
    "\n",
    "Based on the presented data, Bengaluru emerges as the city with the highest job opportunities in India, followed by Mumbai, Hyderabad, and Delhi. This outcome is expected, as these cities are among the most densely populated areas in India, which naturally leads to more job opportunities."
   ]
  },
  {
   "cell_type": "markdown",
   "id": "f456f538",
   "metadata": {},
   "source": [
    "#### Analysising the \"Number of Positions\" Coloumn"
   ]
  },
  {
   "cell_type": "code",
   "execution_count": 52,
   "id": "5ab2e006",
   "metadata": {},
   "outputs": [
    {
     "data": {
      "text/plain": [
       "1.0      1108\n",
       "2.0       777\n",
       "5.0       378\n",
       "10.0      375\n",
       "3.0       325\n",
       "         ... \n",
       "86.0        1\n",
       "57.0        1\n",
       "55.0        1\n",
       "125.0       1\n",
       "126.0       1\n",
       "Name: numberofpositions, Length: 84, dtype: int64"
      ]
     },
     "execution_count": 52,
     "metadata": {},
     "output_type": "execute_result"
    }
   ],
   "source": [
    "df.numberofpositions.value_counts()"
   ]
  },
  {
   "cell_type": "code",
   "execution_count": 53,
   "id": "bc581e13",
   "metadata": {},
   "outputs": [
    {
     "data": {
      "text/plain": [
       "17536"
      ]
     },
     "execution_count": 53,
     "metadata": {},
     "output_type": "execute_result"
    }
   ],
   "source": [
    "# Checking the missing values\n",
    "\n",
    "df.numberofpositions.isnull().sum()"
   ]
  },
  {
   "cell_type": "markdown",
   "id": "2f0e656a",
   "metadata": {},
   "source": [
    "\n",
    "It seems that there are numerous null values in this column, likely due to the fact that only one job is available for certain positions. To address this, we will fill the null values with the number 1, signifying that at least one job is available for these positions."
   ]
  },
  {
   "cell_type": "code",
   "execution_count": 54,
   "id": "f2758b25",
   "metadata": {},
   "outputs": [
    {
     "data": {
      "text/plain": [
       "0         1\n",
       "1        60\n",
       "2         1\n",
       "3         1\n",
       "4         4\n",
       "         ..\n",
       "21995     2\n",
       "21996     1\n",
       "21997     1\n",
       "21998     1\n",
       "21999     1\n",
       "Name: numberofpositions, Length: 22000, dtype: int32"
      ]
     },
     "execution_count": 54,
     "metadata": {},
     "output_type": "execute_result"
    }
   ],
   "source": [
    "df.numberofpositions.fillna(1,inplace=True)\n",
    "df.numberofpositions=df.numberofpositions.astype(int)\n",
    "df.numberofpositions"
   ]
  },
  {
   "cell_type": "code",
   "execution_count": 56,
   "id": "a9017971",
   "metadata": {},
   "outputs": [],
   "source": [
    "number_of_position=pd.DataFrame(df.numberofpositions)\n",
    "\n",
    "# I am temporarily replacing values in the range of 10 to 49 with the value 49. \n",
    "# Later, I will replace these values with the range representation \"[10,49].\n",
    "\n",
    "number_of_position.numberofpositions=np.where((number_of_position.numberofpositions>=10) \n",
    "                                              & (number_of_position.numberofpositions<50),49,\n",
    "                                              number_of_position.numberofpositions)\n",
    "\n",
    "# I am temporarily replacing values in the range of 50 to 99 with the value 99. \n",
    "# Later, I will replace these values with the range representation \"[50,99].\"\n",
    "\n",
    "number_of_position.numberofpositions=np.where((number_of_position.numberofpositions>=50) \n",
    "                                              & (number_of_position.numberofpositions<100),99,\n",
    "                                              number_of_position.numberofpositions)\n",
    "# I am temporarily replacing values in the range of 100 to 999 with the value 101. \n",
    "# Later, I will replace these values with the range representation \"[100-999].\"\n",
    "\n",
    "number_of_position.numberofpositions=np.where((number_of_position.numberofpositions>=100) \n",
    "                                              & (number_of_position.numberofpositions<1000),101,\n",
    "                                              number_of_position.numberofpositions) \n",
    "\n",
    "# I am temporarily replacing values greater than or equal to 1000 with the value 1000. \n",
    "# Later, I will replace these values with the range representation \"[1000,]\" to indicate values equal to or greater than 1000.\n",
    "\n",
    "number_of_position.numberofpositions=np.where((number_of_position.numberofpositions>1000) \n",
    "                                              | (number_of_position.numberofpositions==1000),1000,\n",
    "                                              number_of_position.numberofpositions)"
   ]
  },
  {
   "cell_type": "code",
   "execution_count": 57,
   "id": "b6bd3802",
   "metadata": {},
   "outputs": [],
   "source": [
    "number_of_position.numberofpositions=number_of_position.numberofpositions.astype(int)\n",
    "number_of_position.numberofpositions=number_of_position.numberofpositions.apply(lambda x:str(x).replace(\"49\",\"[10,49]\"))\n",
    "number_of_position.numberofpositions=number_of_position.numberofpositions.apply(lambda x:x.replace(\"99\",\"[50,99]\"))\n",
    "number_of_position.numberofpositions=number_of_position.numberofpositions.apply(lambda x:x.replace(\"101\",\"[100,999]\"))\n",
    "number_of_position.numberofpositions=number_of_position.numberofpositions.apply(lambda x:x.replace(\"1000\",\"[1000,]\"))"
   ]
  },
  {
   "cell_type": "code",
   "execution_count": 58,
   "id": "854d3604",
   "metadata": {},
   "outputs": [
    {
     "data": {
      "image/png": "[encoded data removed]",
      "text/plain": [
       "<Figure size 864x576 with 1 Axes>"
      ]
     },
     "metadata": {},
     "output_type": "display_data"
    }
   ],
   "source": [
    "plt.figure(figsize=(12,8))\n",
    "number_of_position.numberofpositions.value_counts().plot(kind='bar',color='skyblue')\n",
    "plt.xticks(rotation=360,size=12,weight='bold')\n",
    "plt.yticks(size=12,weight='bold')\n",
    "plt.title(\"Distribution of Number of Positions in Job Vacancies\",size=18,weight='bold')\n",
    "plt.show()"
   ]
  },
  {
   "cell_type": "markdown",
   "id": "ecb9d29a",
   "metadata": {},
   "source": [
    "\n",
    "Based on the graph presented above, it's evident that most job vacancies are limited to just one available position. However, it's important to note that there is some uncertainty surrounding this number, as we had to fill more than 17,500 missing values with the value \"1\" to complete the dataset."
   ]
  },
  {
   "cell_type": "markdown",
   "id": "405e9d07",
   "metadata": {},
   "source": [
    "#### Analysising the \"Skills\" Coloumn"
   ]
  },
  {
   "cell_type": "code",
   "execution_count": 59,
   "id": "64894739",
   "metadata": {},
   "outputs": [
    {
     "data": {
      "text/plain": [
       "IT Software - Application Programming      5989\n",
       "Sales                                      2893\n",
       "ITES                                       1640\n",
       "Teaching                                   1091\n",
       "HR                                          928\n",
       "Marketing                                   868\n",
       "Accounts                                    860\n",
       "Production                                  667\n",
       "Medical                                     418\n",
       "Financial Services                          413\n",
       "IT Software - Other                         407\n",
       "Engineering Design                          382\n",
       "IT Software - Network Administration        372\n",
       "IT Software - ERP                           354\n",
       "IT Software - QA & Testing                  342\n",
       "IT Software - eCommerce                     336\n",
       "Site Engineering                            322\n",
       "IT Software - DBA                           273\n",
       "IT Software - Embedded                      262\n",
       "IT Hardware                                 253\n",
       "Journalism                                  252\n",
       "Supply Chain                                232\n",
       "Design                                      227\n",
       "IT Software - Mobile                        203\n",
       "Analytics & Business Intelligence           190\n",
       "IT Software - System Programming            176\n",
       "Executive Assistant                         172\n",
       "Hotels                                      161\n",
       "IT Software - Telecom Software              114\n",
       "Travel                                       90\n",
       "Strategy                                     80\n",
       "Legal                                        78\n",
       "Top Management                               76\n",
       "IT Software - Client/Server Programming      62\n",
       "Fashion Designing                            59\n",
       "Architecture                                 56\n",
       "Export                                       48\n",
       "IT Software - Systems                        43\n",
       "IT Software - Middleware                     23\n",
       "TV                                           20\n",
       "IT Software - Mainframe                      15\n",
       "Defence Forces                               13\n",
       "Packaging                                     8\n",
       "Beauty/Fitness/Spa Services                   3\n",
       "Shipping                                      1\n",
       "Name: skills, dtype: int64"
      ]
     },
     "execution_count": 59,
     "metadata": {},
     "output_type": "execute_result"
    }
   ],
   "source": [
    "df.skills.value_counts()"
   ]
  },
  {
   "cell_type": "code",
   "execution_count": 60,
   "id": "dc5cc23e",
   "metadata": {},
   "outputs": [
    {
     "data": {
      "text/plain": [
       "528"
      ]
     },
     "execution_count": 60,
     "metadata": {},
     "output_type": "execute_result"
    }
   ],
   "source": [
    "df.skills.isnull().sum()"
   ]
  },
  {
   "cell_type": "markdown",
   "id": "0caaea39",
   "metadata": {},
   "source": [
    "Let's examine the data entries that have missing values in the \"skills\" column. This will help us identify and address any gaps or incomplete information in this specific column."
   ]
  },
  {
   "cell_type": "code",
   "execution_count": 62,
   "id": "f05eaabc",
   "metadata": {},
   "outputs": [
    {
     "data": {
      "text/html": [
       "<div>\n",
       "<style scoped>\n",
       "    .dataframe tbody tr th:only-of-type {\n",
       "        vertical-align: middle;\n",
       "    }\n",
       "\n",
       "    .dataframe tbody tr th {\n",
       "        vertical-align: top;\n",
       "    }\n",
       "\n",
       "    .dataframe thead th {\n",
       "        text-align: right;\n",
       "    }\n",
       "</style>\n",
       "<table border=\"1\" class=\"dataframe\">\n",
       "  <thead>\n",
       "    <tr style=\"text-align: right;\">\n",
       "      <th></th>\n",
       "      <th>company</th>\n",
       "      <th>education</th>\n",
       "      <th>experience</th>\n",
       "      <th>industry</th>\n",
       "      <th>joblocation_address</th>\n",
       "      <th>numberofpositions</th>\n",
       "      <th>payrate</th>\n",
       "      <th>skills</th>\n",
       "      <th>min_year_exp</th>\n",
       "      <th>max_year_exp</th>\n",
       "      <th>degree</th>\n",
       "      <th>loc</th>\n",
       "    </tr>\n",
       "  </thead>\n",
       "  <tbody>\n",
       "    <tr>\n",
       "      <th>68</th>\n",
       "      <td>Manipal-City &amp; Guilds (MCG)</td>\n",
       "      <td>UG: Any Graduate PG:Post Graduation Not Requir...</td>\n",
       "      <td>2 - 5 yrs</td>\n",
       "      <td>Education / Teaching / Training</td>\n",
       "      <td>Bengaluru</td>\n",
       "      <td>1</td>\n",
       "      <td>Not Disclosed by Recruiter</td>\n",
       "      <td>NaN</td>\n",
       "      <td>2</td>\n",
       "      <td>5</td>\n",
       "      <td>Any Graduate</td>\n",
       "      <td>[Bengaluru]</td>\n",
       "    </tr>\n",
       "    <tr>\n",
       "      <th>128</th>\n",
       "      <td>Delight HR Services Pvt Ltd.</td>\n",
       "      <td>UG: Any Graduate - Any Specialization PG:Post ...</td>\n",
       "      <td>2 - 5 yrs</td>\n",
       "      <td>Other</td>\n",
       "      <td>Bengaluru</td>\n",
       "      <td>1</td>\n",
       "      <td>2,50,000 - 3,50,000 P.A</td>\n",
       "      <td>NaN</td>\n",
       "      <td>2</td>\n",
       "      <td>5</td>\n",
       "      <td>Any Graduate</td>\n",
       "      <td>[Bengaluru]</td>\n",
       "    </tr>\n",
       "    <tr>\n",
       "      <th>176</th>\n",
       "      <td>Synophic Systems Inc</td>\n",
       "      <td>UG: B.Tech/B.E. - Any Specialization, B.Sc - A...</td>\n",
       "      <td>7 - 12 yrs</td>\n",
       "      <td>Telecom/ISP</td>\n",
       "      <td>Bengaluru</td>\n",
       "      <td>1</td>\n",
       "      <td>6,50,000 - 13,00,000 P.A. Negotiable</td>\n",
       "      <td>NaN</td>\n",
       "      <td>7</td>\n",
       "      <td>12</td>\n",
       "      <td>B.Tech/B.E., B.Sc - Any Specialization, BCA - ...</td>\n",
       "      <td>[Bengaluru]</td>\n",
       "    </tr>\n",
       "    <tr>\n",
       "      <th>182</th>\n",
       "      <td>Crystal Hiring Pvt. Ltd.</td>\n",
       "      <td>UG: Any Graduate - Any Specialization</td>\n",
       "      <td>7 - 12 yrs</td>\n",
       "      <td>IT-Software / Software Services</td>\n",
       "      <td>Mumbai, Bengaluru</td>\n",
       "      <td>1</td>\n",
       "      <td>6,00,000 - 12,00,000 P.A</td>\n",
       "      <td>NaN</td>\n",
       "      <td>7</td>\n",
       "      <td>12</td>\n",
       "      <td>Any Graduate</td>\n",
       "      <td>[Mumbai, Bengaluru]</td>\n",
       "    </tr>\n",
       "    <tr>\n",
       "      <th>206</th>\n",
       "      <td>Amogh Software Solutions Pvt Ltd hiring for Le...</td>\n",
       "      <td>UG: Any Graduate - Any Specialization</td>\n",
       "      <td>3 - 7 yrs</td>\n",
       "      <td>Banking / Financial Services / Broking</td>\n",
       "      <td>Bengaluru</td>\n",
       "      <td>1</td>\n",
       "      <td>Not Disclosed by Recruiter</td>\n",
       "      <td>NaN</td>\n",
       "      <td>3</td>\n",
       "      <td>7</td>\n",
       "      <td>Any Graduate</td>\n",
       "      <td>[Bengaluru]</td>\n",
       "    </tr>\n",
       "  </tbody>\n",
       "</table>\n",
       "</div>"
      ],
      "text/plain": [
       "                                               company  \\\n",
       "68                         Manipal-City & Guilds (MCG)   \n",
       "128                       Delight HR Services Pvt Ltd.   \n",
       "176                               Synophic Systems Inc   \n",
       "182                           Crystal Hiring Pvt. Ltd.   \n",
       "206  Amogh Software Solutions Pvt Ltd hiring for Le...   \n",
       "\n",
       "                                             education  experience  \\\n",
       "68   UG: Any Graduate PG:Post Graduation Not Requir...   2 - 5 yrs   \n",
       "128  UG: Any Graduate - Any Specialization PG:Post ...   2 - 5 yrs   \n",
       "176  UG: B.Tech/B.E. - Any Specialization, B.Sc - A...  7 - 12 yrs   \n",
       "182              UG: Any Graduate - Any Specialization  7 - 12 yrs   \n",
       "206              UG: Any Graduate - Any Specialization   3 - 7 yrs   \n",
       "\n",
       "                                   industry joblocation_address  \\\n",
       "68          Education / Teaching / Training           Bengaluru   \n",
       "128                                   Other           Bengaluru   \n",
       "176                             Telecom/ISP           Bengaluru   \n",
       "182         IT-Software / Software Services   Mumbai, Bengaluru   \n",
       "206  Banking / Financial Services / Broking           Bengaluru   \n",
       "\n",
       "     numberofpositions                               payrate skills  \\\n",
       "68                   1            Not Disclosed by Recruiter    NaN   \n",
       "128                  1               2,50,000 - 3,50,000 P.A    NaN   \n",
       "176                  1  6,50,000 - 13,00,000 P.A. Negotiable    NaN   \n",
       "182                  1              6,00,000 - 12,00,000 P.A    NaN   \n",
       "206                  1            Not Disclosed by Recruiter    NaN   \n",
       "\n",
       "     min_year_exp  max_year_exp  \\\n",
       "68              2             5   \n",
       "128             2             5   \n",
       "176             7            12   \n",
       "182             7            12   \n",
       "206             3             7   \n",
       "\n",
       "                                                degree                  loc  \n",
       "68                                        Any Graduate          [Bengaluru]  \n",
       "128                                       Any Graduate          [Bengaluru]  \n",
       "176  B.Tech/B.E., B.Sc - Any Specialization, BCA - ...          [Bengaluru]  \n",
       "182                                       Any Graduate  [Mumbai, Bengaluru]  \n",
       "206                                       Any Graduate          [Bengaluru]  "
      ]
     },
     "execution_count": 62,
     "metadata": {},
     "output_type": "execute_result"
    }
   ],
   "source": [
    "df[df.skills.isnull()][:5]"
   ]
  },
  {
   "cell_type": "markdown",
   "id": "486fee9b",
   "metadata": {},
   "source": [
    "\n",
    "Let's examine the \"industry\" column in the data above. It's apparent that the industry is quite diverse. Therefore, instead of filling missing values in the \"skills\" column with the mode (most common value) from the entire dataset, I plan to impute skills with the mode of skills related to each specific industry. This approach will result in more accurate and industry-specific skill assignments."
   ]
  },
  {
   "cell_type": "code",
   "execution_count": 63,
   "id": "7d42a544",
   "metadata": {},
   "outputs": [],
   "source": [
    "\n",
    "mode_skills=[]\n",
    "for industry in df.industry.unique():\n",
    "    mode=df[df['industry']==industry][['skills','company']].groupby(['skills']).count().sort_values(by='company',ascending=False).index[0]\n",
    "    mode_skills.append(mode)"
   ]
  },
  {
   "cell_type": "code",
   "execution_count": 64,
   "id": "d7d532eb",
   "metadata": {},
   "outputs": [
    {
     "data": {
      "text/plain": [
       "{'Media / Entertainment / Internet': 'Sales',\n",
       " 'Advertising / PR / MR / Event Management': 'Marketing',\n",
       " 'IT-Software / Software Services': 'IT Software - Application Programming',\n",
       " 'Banking / Financial Services / Broking': 'Sales',\n",
       " 'Aviation / Aerospace Firms': 'Production',\n",
       " 'Industrial Products / Heavy Machinery': 'Sales',\n",
       " 'FMCG / Foods / Beverage': 'Sales',\n",
       " 'Recruitment / Staffing': 'HR',\n",
       " 'Internet / Ecommerce': 'IT Software - Application Programming',\n",
       " 'Travel / Hotels / Restaurants / Airlines / Railways': 'Hotels',\n",
       " 'BPO / Call Centre / ITES': 'ITES',\n",
       " 'Pharma / Biotech / Clinical Research': 'Production',\n",
       " 'Real Estate / Property': 'Sales',\n",
       " 'Insurance': 'Sales',\n",
       " 'Facility Management': 'Sales',\n",
       " 'Publishing': 'Sales',\n",
       " 'Education / Teaching / Training': 'Teaching',\n",
       " 'Retail / Wholesale': 'Sales',\n",
       " 'Automobile / Auto Anciliary / Auto Components': 'Production',\n",
       " 'Chemicals / PetroChemical / Plastic / Rubber': 'Sales',\n",
       " 'Government / Defence': 'Engineering Design',\n",
       " 'Accounting / Finance': 'Accounts',\n",
       " 'Textiles / Garments / Accessories': 'Fashion Designing',\n",
       " 'Semiconductors / Electronics': 'IT Software - Embedded',\n",
       " 'Telecom/ISP': 'IT Software - Application Programming',\n",
       " 'Medical / Healthcare / Hospitals': 'Medical',\n",
       " 'Legal': 'Legal',\n",
       " 'Courier / Transportation / Freight / Warehousing': 'Sales',\n",
       " 'NGO / Social Services / Regulators / Industry Associations': 'Marketing',\n",
       " 'Other': 'Sales',\n",
       " 'Architecture / Interior Design': 'Architecture',\n",
       " 'KPO / Research / Analytics': 'Analytics & Business Intelligence',\n",
       " 'Construction / Engineering / Cement / Metals': 'Site Engineering',\n",
       " 'Office Equipment / Automation': 'Sales',\n",
       " 'Consumer Electronics / Appliances / Durables': 'Sales',\n",
       " 'Iron and Steel': 'Production',\n",
       " 'Strategy / Management Consulting Firms': 'IT Software - Application Programming',\n",
       " 'Oil and Gas / Energy / Power / Infrastructure': 'Engineering Design',\n",
       " 'IT-Hardware & Networking': 'IT Hardware',\n",
       " 'Wellness / Fitness / Sports / Beauty': 'Beauty/Fitness/Spa Services',\n",
       " 'Agriculture / Dairy': 'Sales',\n",
       " 'Electricals / Switchgears': 'IT Software - Application Programming',\n",
       " 'Security / Law Enforcement': 'Sales',\n",
       " 'Gems / Jewellery': 'Sales',\n",
       " 'Ceramics / Sanitary ware': 'Sales',\n",
       " 'Fresher / Trainee / Entry Level': 'Executive Assistant',\n",
       " 'Food Processing': 'Sales',\n",
       " 'Printing / Packaging': 'Sales',\n",
       " 'Brewery / Distillery': 'Accounts',\n",
       " 'Telecom/ISP /': 'Sales',\n",
       " 'Export / Import': 'Export',\n",
       " 'Heat Ventilation / Air Conditioning': 'Sales',\n",
       " 'Wellness / Fitness / Sports': 'Sales',\n",
       " 'Water Treatment / Waste Management': 'Production',\n",
       " 'Shipping / Marine': 'Executive Assistant',\n",
       " 'Glass / Glassware': 'Sales',\n",
       " 'Animation / Gaming': 'IT Software - Application Programming',\n",
       " 'Fertilizers / Pesticides': 'Accounts',\n",
       " 'Pulp and Paper': 'Accounts',\n",
       " 'Tyres': 'Supply Chain',\n",
       " 'Leather': 'Design',\n",
       " 'Broadcasting': 'Sales',\n",
       " 'Medical Devices / Equipments': 'IT Hardware'}"
      ]
     },
     "execution_count": 64,
     "metadata": {},
     "output_type": "execute_result"
    }
   ],
   "source": [
    "zip_iterator=zip(df.industry.unique().tolist(),mode_skills)\n",
    "dict_ind_skills=dict(zip_iterator)\n",
    "dict_ind_skills"
   ]
  },
  {
   "cell_type": "markdown",
   "id": "5ab79bbc",
   "metadata": {},
   "source": [
    "\n",
    "We have successfully created a dictionary containing industry categories and the most essential skills required for each specific industry. This dictionary will be valuable for skill imputation based on industry, ensuring a more precise match between job requirements and the necessary skills."
   ]
  },
  {
   "cell_type": "code",
   "execution_count": 65,
   "id": "e9a5d1e9",
   "metadata": {},
   "outputs": [],
   "source": [
    "\n",
    "for i in range(len(df)):\n",
    "    if pd.isnull(df.skills[i]):\n",
    "        df.skills[i]=dict_ind_skills[df.industry[i]]"
   ]
  },
  {
   "cell_type": "code",
   "execution_count": 66,
   "id": "7151b457",
   "metadata": {},
   "outputs": [
    {
     "data": {
      "text/plain": [
       "0"
      ]
     },
     "execution_count": 66,
     "metadata": {},
     "output_type": "execute_result"
    }
   ],
   "source": [
    "df.skills.isnull().sum()"
   ]
  },
  {
   "cell_type": "markdown",
   "id": "d600c85a",
   "metadata": {},
   "source": [
    "Having successfully imputed the data, our next step is to retrieve the 20 most in-demand skills. These skills are essential for understanding the key qualifications sought after by employers in our dataset."
   ]
  },
  {
   "cell_type": "code",
   "execution_count": 67,
   "id": "e61789ec",
   "metadata": {},
   "outputs": [
    {
     "data": {
      "image/png": "[encoded data removed]",
      "text/plain": [
       "<Figure size 864x576 with 1 Axes>"
      ]
     },
     "metadata": {},
     "output_type": "display_data"
    }
   ],
   "source": [
    "top_20_skills=pd.DataFrame(df['skills'].value_counts()[:20])\n",
    "top_20_skills.columns=['Count']\n",
    "plt.figure(figsize=(12,8))\n",
    "sns.barplot(y=top_20_skills.index,x=top_20_skills.Count,palette='magma')\n",
    "plt.title(\"20 Most Needed Skills in Today's Industries\",weight='bold',size=18)\n",
    "plt.show()"
   ]
  },
  {
   "cell_type": "markdown",
   "id": "c171f984",
   "metadata": {},
   "source": [
    "\n",
    "Based on the chart presented above, it's evident that the most sought-after skills in today's industry include IT Software - Application Programming, Sales, and ITES. These skills are in high demand, highlighting their significance in the job market."
   ]
  },
  {
   "cell_type": "markdown",
   "id": "613719eb",
   "metadata": {},
   "source": [
    "#### Analysising the \"Pay Rate\" Coloumn"
   ]
  },
  {
   "cell_type": "code",
   "execution_count": 68,
   "id": "1da51d1f",
   "metadata": {},
   "outputs": [
    {
     "data": {
      "text/plain": [
       "0           1,50,000 - 2,25,000 P.A\n",
       "1    1,50,000 - 2,50,000 P.A. 20000\n",
       "2        Not Disclosed by Recruiter\n",
       "3        Not Disclosed by Recruiter\n",
       "4        Not Disclosed by Recruiter\n",
       "5        Not Disclosed by Recruiter\n",
       "6           3,00,000 - 6,50,000 P.A\n",
       "7        Not Disclosed by Recruiter\n",
       "8           1,00,000 - 2,00,000 P.A\n",
       "9        Not Disclosed by Recruiter\n",
       "Name: payrate, dtype: object"
      ]
     },
     "execution_count": 68,
     "metadata": {},
     "output_type": "execute_result"
    }
   ],
   "source": [
    "df.payrate[:10]"
   ]
  },
  {
   "cell_type": "code",
   "execution_count": 69,
   "id": "f2e704fa",
   "metadata": {},
   "outputs": [
    {
     "data": {
      "text/plain": [
       "97"
      ]
     },
     "execution_count": 69,
     "metadata": {},
     "output_type": "execute_result"
    }
   ],
   "source": [
    "df.payrate.isnull().sum()"
   ]
  },
  {
   "cell_type": "markdown",
   "id": "33644360",
   "metadata": {},
   "source": [
    "\n",
    "At this point, we will fill the NaN (missing) values in the data with the placeholder \"Not Disclosed by Recruiter.\" This will provide a standardized representation for undisclosed information within the dataset."
   ]
  },
  {
   "cell_type": "code",
   "execution_count": 70,
   "id": "d4349412",
   "metadata": {},
   "outputs": [
    {
     "data": {
      "text/plain": [
       "Not Disclosed by Recruiter                                                  15946\n",
       "Pay Band: PB4 (Rs.3740067000) with Academic Grade Pay of Rs.10,500/p.m.       121\n",
       "Pay Band: PB4 (Rs.3740067000) with Academic Grade Pay of Rs.9,500/p.m.        116\n",
       "Best in the Industry                                                           87\n",
       "Pay Band: PB3 (Rs.15600-39100) with Academic Grade Pay of Rs.8,000/p. m.       84\n",
       "                                                                            ...  \n",
       "Negotiable for Good Candidates                                                  1\n",
       "1,00,000 - 6,00,000 P.A. + variables                                            1\n",
       "3,00,000 - 4,50,000 P.A. As Per Restaurant Policy                               1\n",
       "5,00,000 - 8,00,000 P.A. Best in the Industry                                   1\n",
       "8,50,000 - 14,00,000 P.A                                                        1\n",
       "Name: payrate, Length: 1848, dtype: int64"
      ]
     },
     "execution_count": 70,
     "metadata": {},
     "output_type": "execute_result"
    }
   ],
   "source": [
    "df.payrate.fillna(\"Not Disclosed by Recruiter\",inplace=True)\n",
    "df.payrate.value_counts()"
   ]
  },
  {
   "cell_type": "markdown",
   "id": "dce3b1a5",
   "metadata": {},
   "source": [
    "We've observed that the majority of job vacancies do not specify the pay rate for the job positions. To gain a better understanding, let's determine the percentage of job listings that lack this information."
   ]
  },
  {
   "cell_type": "code",
   "execution_count": 72,
   "id": "373fc565",
   "metadata": {},
   "outputs": [
    {
     "name": "stdout",
     "output_type": "stream",
     "text": [
      "The percentage of job vacancies with not Pay Rate information is: 0.7248181818181818\n"
     ]
    }
   ],
   "source": [
    "print(\"The percentage of job vacancies with not Pay Rate information is:\",df.payrate.value_counts()[0]/len(df.payrate))"
   ]
  },
  {
   "cell_type": "markdown",
   "id": "4cc93206",
   "metadata": {},
   "source": [
    "\n",
    "The percentage of missing pay rate information is exceptionally high, which means we won't conduct further analysis on this column. It's impractical to derive meaningful insights from data with such a significant number of missing values."
   ]
  },
  {
   "cell_type": "markdown",
   "id": "2eacb54b",
   "metadata": {},
   "source": [
    "#### Analysising the \"Company\" Coloumn"
   ]
  },
  {
   "cell_type": "code",
   "execution_count": 73,
   "id": "3ebd01a8",
   "metadata": {},
   "outputs": [
    {
     "data": {
      "text/plain": [
       "Indian Institute of Technology Bombay                                                                         403\n",
       "Confidential                                                                                                  393\n",
       "National Institute of Industrial Engineering                                                                  185\n",
       "Oracle India Pvt. Ltd.                                                                                        151\n",
       "JPMorgan Chase                                                                                                135\n",
       "                                                                                                             ... \n",
       "Bello Jewels Pvt Ltd                                                                                            1\n",
       "ITG Telematics Pvt Ltd                                                                                          1\n",
       "Genuine Management Services Pvt. Limited hiring for Leading Client of Genuine Management Services Pvt. Ltd      1\n",
       "AJAX Consulting hiring for a large Japanese MNC                                                                 1\n",
       "Musk - Startup                                                                                                  1\n",
       "Name: company, Length: 8469, dtype: int64"
      ]
     },
     "execution_count": 73,
     "metadata": {},
     "output_type": "execute_result"
    }
   ],
   "source": [
    "df.company.value_counts()"
   ]
  },
  {
   "cell_type": "code",
   "execution_count": 74,
   "id": "c045dac6",
   "metadata": {},
   "outputs": [
    {
     "data": {
      "text/plain": [
       "4"
      ]
     },
     "execution_count": 74,
     "metadata": {},
     "output_type": "execute_result"
    }
   ],
   "source": [
    "df.company.isnull().sum()"
   ]
  },
  {
   "cell_type": "markdown",
   "id": "7e94f14f",
   "metadata": {},
   "source": [
    "We will address the missing values in this column by imputing them with the label \"Confidential.\" This will ensure consistent representation of undisclosed data."
   ]
  },
  {
   "cell_type": "code",
   "execution_count": 75,
   "id": "5f1b68ef",
   "metadata": {},
   "outputs": [
    {
     "data": {
      "text/plain": [
       "0"
      ]
     },
     "execution_count": 75,
     "metadata": {},
     "output_type": "execute_result"
    }
   ],
   "source": [
    "df.company.fillna(\"Confidential\",inplace=True)\n",
    "\n",
    "df.company.isnull().sum()"
   ]
  },
  {
   "cell_type": "markdown",
   "id": "03789505",
   "metadata": {},
   "source": [
    "Our next step is to retrieve information on the top 15 companies offering the most job opportunities in India. This data will provide valuable insights into the job market and the companies that are actively hiring."
   ]
  },
  {
   "cell_type": "code",
   "execution_count": 80,
   "id": "2f19ec83",
   "metadata": {},
   "outputs": [
    {
     "data": {
      "image/png": "[encoded data removed]",
      "text/plain": [
       "<Figure size 864x576 with 1 Axes>"
      ]
     },
     "metadata": {},
     "output_type": "display_data"
    }
   ],
   "source": [
    "plt.figure(figsize=(12,8))\n",
    "df.company.value_counts()[:15].sort_values().plot(kind='barh',color='orchid')\n",
    "plt.title(\"15 Companies with Highest Job Opportunities in India\",size=18,weight='bold')\n",
    "plt.xticks(size=11,weight='bold')\n",
    "plt.yticks(size=11,weight='bold')\n",
    "plt.show()"
   ]
  },
  {
   "cell_type": "markdown",
   "id": "424836f3",
   "metadata": {},
   "source": [
    "We have successfully obtained the list of the top 15 companies with the highest job opportunities in India. Notably, three of these companies are Indian Institute of Technology Bombay, National Institute of Industrial Engineering, and Oracle India Pvt. Ltd. These companies offer significant employment prospects in the Indian job market."
   ]
  },
  {
   "cell_type": "markdown",
   "id": "713e3e2e",
   "metadata": {},
   "source": [
    "#### Most Needed Skill For A Particular Industry"
   ]
  },
  {
   "cell_type": "markdown",
   "id": "9e140dc6",
   "metadata": {},
   "source": [
    "\n",
    "This section is designed to assist job applicants in preparing the necessary skills if they intend to pursue a career in a particular industry. It provides valuable insights into the skills in high demand for specific job sectors, aiding individuals in their career preparations."
   ]
  },
  {
   "cell_type": "code",
   "execution_count": 81,
   "id": "0b8bdfa2",
   "metadata": {},
   "outputs": [],
   "source": [
    "\n",
    "mode_skills=[]\n",
    "for industry in df.industry.unique():\n",
    "    mode=df[df['industry']==industry][['skills','company']].groupby(['skills']).count().sort_values(by='company',ascending=False).index[0]\n",
    "    mode_skills.append(mode)"
   ]
  },
  {
   "cell_type": "code",
   "execution_count": null,
   "id": "cfd2ca5a",
   "metadata": {},
   "outputs": [],
   "source": [
    "# pd.set_option('max_rows',100)\n",
    "# pd.DataFrame(mode_skills,data.industry.unique().tolist(),columns=[\"Most Needed Skill\"])[:63]"
   ]
  },
  {
   "cell_type": "code",
   "execution_count": 84,
   "id": "d37ffde3",
   "metadata": {},
   "outputs": [
    {
     "data": {
      "text/html": [
       "<div>\n",
       "<style scoped>\n",
       "    .dataframe tbody tr th:only-of-type {\n",
       "        vertical-align: middle;\n",
       "    }\n",
       "\n",
       "    .dataframe tbody tr th {\n",
       "        vertical-align: top;\n",
       "    }\n",
       "\n",
       "    .dataframe thead th {\n",
       "        text-align: right;\n",
       "    }\n",
       "</style>\n",
       "<table border=\"1\" class=\"dataframe\">\n",
       "  <thead>\n",
       "    <tr style=\"text-align: right;\">\n",
       "      <th></th>\n",
       "      <th>Most Needed Skill</th>\n",
       "    </tr>\n",
       "  </thead>\n",
       "  <tbody>\n",
       "    <tr>\n",
       "      <th>Media / Entertainment / Internet</th>\n",
       "      <td>Sales</td>\n",
       "    </tr>\n",
       "    <tr>\n",
       "      <th>Advertising / PR / MR / Event Management</th>\n",
       "      <td>Marketing</td>\n",
       "    </tr>\n",
       "    <tr>\n",
       "      <th>IT-Software / Software Services</th>\n",
       "      <td>IT Software - Application Programming</td>\n",
       "    </tr>\n",
       "    <tr>\n",
       "      <th>Banking / Financial Services / Broking</th>\n",
       "      <td>Sales</td>\n",
       "    </tr>\n",
       "    <tr>\n",
       "      <th>Aviation / Aerospace Firms</th>\n",
       "      <td>Production</td>\n",
       "    </tr>\n",
       "    <tr>\n",
       "      <th>Industrial Products / Heavy Machinery</th>\n",
       "      <td>Sales</td>\n",
       "    </tr>\n",
       "    <tr>\n",
       "      <th>FMCG / Foods / Beverage</th>\n",
       "      <td>Sales</td>\n",
       "    </tr>\n",
       "    <tr>\n",
       "      <th>Recruitment / Staffing</th>\n",
       "      <td>HR</td>\n",
       "    </tr>\n",
       "    <tr>\n",
       "      <th>Internet / Ecommerce</th>\n",
       "      <td>IT Software - Application Programming</td>\n",
       "    </tr>\n",
       "    <tr>\n",
       "      <th>Travel / Hotels / Restaurants / Airlines / Railways</th>\n",
       "      <td>Hotels</td>\n",
       "    </tr>\n",
       "    <tr>\n",
       "      <th>BPO / Call Centre / ITES</th>\n",
       "      <td>ITES</td>\n",
       "    </tr>\n",
       "    <tr>\n",
       "      <th>Pharma / Biotech / Clinical Research</th>\n",
       "      <td>Production</td>\n",
       "    </tr>\n",
       "    <tr>\n",
       "      <th>Real Estate / Property</th>\n",
       "      <td>Sales</td>\n",
       "    </tr>\n",
       "    <tr>\n",
       "      <th>Insurance</th>\n",
       "      <td>Sales</td>\n",
       "    </tr>\n",
       "    <tr>\n",
       "      <th>Facility Management</th>\n",
       "      <td>Sales</td>\n",
       "    </tr>\n",
       "    <tr>\n",
       "      <th>Publishing</th>\n",
       "      <td>Sales</td>\n",
       "    </tr>\n",
       "    <tr>\n",
       "      <th>Education / Teaching / Training</th>\n",
       "      <td>Teaching</td>\n",
       "    </tr>\n",
       "    <tr>\n",
       "      <th>Retail / Wholesale</th>\n",
       "      <td>Sales</td>\n",
       "    </tr>\n",
       "    <tr>\n",
       "      <th>Automobile / Auto Anciliary / Auto Components</th>\n",
       "      <td>Production</td>\n",
       "    </tr>\n",
       "    <tr>\n",
       "      <th>Chemicals / PetroChemical / Plastic / Rubber</th>\n",
       "      <td>Sales</td>\n",
       "    </tr>\n",
       "    <tr>\n",
       "      <th>Government / Defence</th>\n",
       "      <td>Engineering Design</td>\n",
       "    </tr>\n",
       "    <tr>\n",
       "      <th>Accounting / Finance</th>\n",
       "      <td>Accounts</td>\n",
       "    </tr>\n",
       "    <tr>\n",
       "      <th>Textiles / Garments / Accessories</th>\n",
       "      <td>Fashion Designing</td>\n",
       "    </tr>\n",
       "    <tr>\n",
       "      <th>Semiconductors / Electronics</th>\n",
       "      <td>IT Software - Embedded</td>\n",
       "    </tr>\n",
       "    <tr>\n",
       "      <th>Telecom/ISP</th>\n",
       "      <td>IT Software - Application Programming</td>\n",
       "    </tr>\n",
       "    <tr>\n",
       "      <th>Medical / Healthcare / Hospitals</th>\n",
       "      <td>Medical</td>\n",
       "    </tr>\n",
       "    <tr>\n",
       "      <th>Legal</th>\n",
       "      <td>Legal</td>\n",
       "    </tr>\n",
       "    <tr>\n",
       "      <th>Courier / Transportation / Freight / Warehousing</th>\n",
       "      <td>Sales</td>\n",
       "    </tr>\n",
       "    <tr>\n",
       "      <th>NGO / Social Services / Regulators / Industry Associations</th>\n",
       "      <td>Marketing</td>\n",
       "    </tr>\n",
       "    <tr>\n",
       "      <th>Other</th>\n",
       "      <td>Sales</td>\n",
       "    </tr>\n",
       "    <tr>\n",
       "      <th>Architecture / Interior Design</th>\n",
       "      <td>Architecture</td>\n",
       "    </tr>\n",
       "    <tr>\n",
       "      <th>KPO / Research / Analytics</th>\n",
       "      <td>Analytics &amp; Business Intelligence</td>\n",
       "    </tr>\n",
       "    <tr>\n",
       "      <th>Construction / Engineering / Cement / Metals</th>\n",
       "      <td>Site Engineering</td>\n",
       "    </tr>\n",
       "    <tr>\n",
       "      <th>Office Equipment / Automation</th>\n",
       "      <td>Sales</td>\n",
       "    </tr>\n",
       "    <tr>\n",
       "      <th>Consumer Electronics / Appliances / Durables</th>\n",
       "      <td>Sales</td>\n",
       "    </tr>\n",
       "    <tr>\n",
       "      <th>Iron and Steel</th>\n",
       "      <td>Production</td>\n",
       "    </tr>\n",
       "    <tr>\n",
       "      <th>Strategy / Management Consulting Firms</th>\n",
       "      <td>IT Software - Application Programming</td>\n",
       "    </tr>\n",
       "    <tr>\n",
       "      <th>Oil and Gas / Energy / Power / Infrastructure</th>\n",
       "      <td>Engineering Design</td>\n",
       "    </tr>\n",
       "    <tr>\n",
       "      <th>IT-Hardware &amp; Networking</th>\n",
       "      <td>IT Hardware</td>\n",
       "    </tr>\n",
       "    <tr>\n",
       "      <th>Wellness / Fitness / Sports / Beauty</th>\n",
       "      <td>Beauty/Fitness/Spa Services</td>\n",
       "    </tr>\n",
       "    <tr>\n",
       "      <th>Agriculture / Dairy</th>\n",
       "      <td>Sales</td>\n",
       "    </tr>\n",
       "    <tr>\n",
       "      <th>Electricals / Switchgears</th>\n",
       "      <td>IT Software - Application Programming</td>\n",
       "    </tr>\n",
       "    <tr>\n",
       "      <th>Security / Law Enforcement</th>\n",
       "      <td>Sales</td>\n",
       "    </tr>\n",
       "    <tr>\n",
       "      <th>Gems / Jewellery</th>\n",
       "      <td>Sales</td>\n",
       "    </tr>\n",
       "    <tr>\n",
       "      <th>Ceramics / Sanitary ware</th>\n",
       "      <td>Sales</td>\n",
       "    </tr>\n",
       "    <tr>\n",
       "      <th>Fresher / Trainee / Entry Level</th>\n",
       "      <td>Executive Assistant</td>\n",
       "    </tr>\n",
       "    <tr>\n",
       "      <th>Food Processing</th>\n",
       "      <td>Sales</td>\n",
       "    </tr>\n",
       "    <tr>\n",
       "      <th>Printing / Packaging</th>\n",
       "      <td>Sales</td>\n",
       "    </tr>\n",
       "    <tr>\n",
       "      <th>Brewery / Distillery</th>\n",
       "      <td>Accounts</td>\n",
       "    </tr>\n",
       "    <tr>\n",
       "      <th>Telecom/ISP /</th>\n",
       "      <td>Sales</td>\n",
       "    </tr>\n",
       "    <tr>\n",
       "      <th>Export / Import</th>\n",
       "      <td>Export</td>\n",
       "    </tr>\n",
       "    <tr>\n",
       "      <th>Heat Ventilation / Air Conditioning</th>\n",
       "      <td>Sales</td>\n",
       "    </tr>\n",
       "    <tr>\n",
       "      <th>Wellness / Fitness / Sports</th>\n",
       "      <td>Sales</td>\n",
       "    </tr>\n",
       "    <tr>\n",
       "      <th>Water Treatment / Waste Management</th>\n",
       "      <td>Production</td>\n",
       "    </tr>\n",
       "    <tr>\n",
       "      <th>Shipping / Marine</th>\n",
       "      <td>Executive Assistant</td>\n",
       "    </tr>\n",
       "    <tr>\n",
       "      <th>Glass / Glassware</th>\n",
       "      <td>Sales</td>\n",
       "    </tr>\n",
       "    <tr>\n",
       "      <th>Animation / Gaming</th>\n",
       "      <td>IT Software - Application Programming</td>\n",
       "    </tr>\n",
       "    <tr>\n",
       "      <th>Fertilizers / Pesticides</th>\n",
       "      <td>Accounts</td>\n",
       "    </tr>\n",
       "    <tr>\n",
       "      <th>Pulp and Paper</th>\n",
       "      <td>Accounts</td>\n",
       "    </tr>\n",
       "    <tr>\n",
       "      <th>Tyres</th>\n",
       "      <td>Supply Chain</td>\n",
       "    </tr>\n",
       "    <tr>\n",
       "      <th>Leather</th>\n",
       "      <td>Design</td>\n",
       "    </tr>\n",
       "    <tr>\n",
       "      <th>Broadcasting</th>\n",
       "      <td>Sales</td>\n",
       "    </tr>\n",
       "    <tr>\n",
       "      <th>Medical Devices / Equipments</th>\n",
       "      <td>IT Hardware</td>\n",
       "    </tr>\n",
       "  </tbody>\n",
       "</table>\n",
       "</div>"
      ],
      "text/plain": [
       "                                                                        Most Needed Skill\n",
       "Media / Entertainment / Internet                                                    Sales\n",
       "Advertising / PR / MR / Event Management                                        Marketing\n",
       "IT-Software / Software Services                     IT Software - Application Programming\n",
       "Banking / Financial Services / Broking                                              Sales\n",
       "Aviation / Aerospace Firms                                                     Production\n",
       "Industrial Products / Heavy Machinery                                               Sales\n",
       "FMCG / Foods / Beverage                                                             Sales\n",
       "Recruitment / Staffing                                                                 HR\n",
       "Internet / Ecommerce                                IT Software - Application Programming\n",
       "Travel / Hotels / Restaurants / Airlines / Rail...                                 Hotels\n",
       "BPO / Call Centre / ITES                                                             ITES\n",
       "Pharma / Biotech / Clinical Research                                           Production\n",
       "Real Estate / Property                                                              Sales\n",
       "Insurance                                                                           Sales\n",
       "Facility Management                                                                 Sales\n",
       "Publishing                                                                          Sales\n",
       "Education / Teaching / Training                                                  Teaching\n",
       "Retail / Wholesale                                                                  Sales\n",
       "Automobile / Auto Anciliary / Auto Components                                  Production\n",
       "Chemicals / PetroChemical / Plastic / Rubber                                        Sales\n",
       "Government / Defence                                                   Engineering Design\n",
       "Accounting / Finance                                                             Accounts\n",
       "Textiles / Garments / Accessories                                       Fashion Designing\n",
       "Semiconductors / Electronics                                       IT Software - Embedded\n",
       "Telecom/ISP                                         IT Software - Application Programming\n",
       "Medical / Healthcare / Hospitals                                                  Medical\n",
       "Legal                                                                               Legal\n",
       "Courier / Transportation / Freight / Warehousing                                    Sales\n",
       "NGO / Social Services / Regulators / Industry A...                              Marketing\n",
       "Other                                                                               Sales\n",
       "Architecture / Interior Design                                               Architecture\n",
       "KPO / Research / Analytics                              Analytics & Business Intelligence\n",
       "Construction / Engineering / Cement / Metals                             Site Engineering\n",
       "Office Equipment / Automation                                                       Sales\n",
       "Consumer Electronics / Appliances / Durables                                        Sales\n",
       "Iron and Steel                                                                 Production\n",
       "Strategy / Management Consulting Firms              IT Software - Application Programming\n",
       "Oil and Gas / Energy / Power / Infrastructure                          Engineering Design\n",
       "IT-Hardware & Networking                                                      IT Hardware\n",
       "Wellness / Fitness / Sports / Beauty                          Beauty/Fitness/Spa Services\n",
       "Agriculture / Dairy                                                                 Sales\n",
       "Electricals / Switchgears                           IT Software - Application Programming\n",
       "Security / Law Enforcement                                                          Sales\n",
       "Gems / Jewellery                                                                    Sales\n",
       "Ceramics / Sanitary ware                                                            Sales\n",
       "Fresher / Trainee / Entry Level                                       Executive Assistant\n",
       "Food Processing                                                                     Sales\n",
       "Printing / Packaging                                                                Sales\n",
       "Brewery / Distillery                                                             Accounts\n",
       "Telecom/ISP /                                                                       Sales\n",
       "Export / Import                                                                    Export\n",
       "Heat Ventilation / Air Conditioning                                                 Sales\n",
       "Wellness / Fitness / Sports                                                         Sales\n",
       "Water Treatment / Waste Management                                             Production\n",
       "Shipping / Marine                                                     Executive Assistant\n",
       "Glass / Glassware                                                                   Sales\n",
       "Animation / Gaming                                  IT Software - Application Programming\n",
       "Fertilizers / Pesticides                                                         Accounts\n",
       "Pulp and Paper                                                                   Accounts\n",
       "Tyres                                                                        Supply Chain\n",
       "Leather                                                                            Design\n",
       "Broadcasting                                                                        Sales\n",
       "Medical Devices / Equipments                                                  IT Hardware"
      ]
     },
     "execution_count": 84,
     "metadata": {},
     "output_type": "execute_result"
    }
   ],
   "source": [
    "pd.set_option('display.max_rows', 100)\n",
    "pd.DataFrame(mode_skills, index=df.industry.unique().tolist(), columns=[\"Most Needed Skill\"])[:63]\n"
   ]
  },
  {
   "cell_type": "markdown",
   "id": "471f2a34",
   "metadata": {},
   "source": [
    "#### Average Minimum and Maximum Year Of Experience for Each Industry "
   ]
  },
  {
   "cell_type": "markdown",
   "id": "a7835c9e",
   "metadata": {},
   "source": [
    "\n",
    "This information provides valuable insights for job seekers in finding a job that aligns with their years of experience. By understanding the industry-specific skills in demand, job seekers can better match their qualifications and experience with job opportunities in their desired sector."
   ]
  },
  {
   "cell_type": "code",
   "execution_count": 89,
   "id": "b17d9df0",
   "metadata": {},
   "outputs": [
    {
     "data": {
      "text/html": [
       "<style type=\"text/css\">\n",
       "#T_54f14_row0_col0, #T_54f14_row0_col1 {\n",
       "  background-color: #3b4cc0;\n",
       "  color: #f1f1f1;\n",
       "}\n",
       "#T_54f14_row1_col0, #T_54f14_row2_col0 {\n",
       "  background-color: #5977e3;\n",
       "  color: #f1f1f1;\n",
       "}\n",
       "#T_54f14_row1_col1 {\n",
       "  background-color: #6e90f2;\n",
       "  color: #f1f1f1;\n",
       "}\n",
       "#T_54f14_row2_col1 {\n",
       "  background-color: #4c66d6;\n",
       "  color: #f1f1f1;\n",
       "}\n",
       "#T_54f14_row3_col0 {\n",
       "  background-color: #7295f4;\n",
       "  color: #f1f1f1;\n",
       "}\n",
       "#T_54f14_row3_col1, #T_54f14_row4_col0 {\n",
       "  background-color: #88abfd;\n",
       "  color: #000000;\n",
       "}\n",
       "#T_54f14_row4_col1, #T_54f14_row17_col1, #T_54f14_row28_col0, #T_54f14_row29_col0, #T_54f14_row30_col0 {\n",
       "  background-color: #b7cff9;\n",
       "  color: #000000;\n",
       "}\n",
       "#T_54f14_row5_col0, #T_54f14_row6_col0 {\n",
       "  background-color: #8badfd;\n",
       "  color: #000000;\n",
       "}\n",
       "#T_54f14_row5_col1 {\n",
       "  background-color: #94b6ff;\n",
       "  color: #000000;\n",
       "}\n",
       "#T_54f14_row6_col1 {\n",
       "  background-color: #84a7fc;\n",
       "  color: #f1f1f1;\n",
       "}\n",
       "#T_54f14_row7_col0 {\n",
       "  background-color: #8caffe;\n",
       "  color: #000000;\n",
       "}\n",
       "#T_54f14_row7_col1, #T_54f14_row13_col0 {\n",
       "  background-color: #98b9ff;\n",
       "  color: #000000;\n",
       "}\n",
       "#T_54f14_row8_col0 {\n",
       "  background-color: #8db0fe;\n",
       "  color: #000000;\n",
       "}\n",
       "#T_54f14_row8_col1, #T_54f14_row11_col0 {\n",
       "  background-color: #96b7ff;\n",
       "  color: #000000;\n",
       "}\n",
       "#T_54f14_row9_col0, #T_54f14_row10_col0 {\n",
       "  background-color: #93b5fe;\n",
       "  color: #000000;\n",
       "}\n",
       "#T_54f14_row9_col1, #T_54f14_row14_col1 {\n",
       "  background-color: #9dbdff;\n",
       "  color: #000000;\n",
       "}\n",
       "#T_54f14_row10_col1, #T_54f14_row23_col0 {\n",
       "  background-color: #aac7fd;\n",
       "  color: #000000;\n",
       "}\n",
       "#T_54f14_row11_col1 {\n",
       "  background-color: #9abbff;\n",
       "  color: #000000;\n",
       "}\n",
       "#T_54f14_row12_col0 {\n",
       "  background-color: #97b8ff;\n",
       "  color: #000000;\n",
       "}\n",
       "#T_54f14_row12_col1, #T_54f14_row13_col1 {\n",
       "  background-color: #9ebeff;\n",
       "  color: #000000;\n",
       "}\n",
       "#T_54f14_row14_col0, #T_54f14_row16_col1 {\n",
       "  background-color: #9bbcff;\n",
       "  color: #000000;\n",
       "}\n",
       "#T_54f14_row15_col0 {\n",
       "  background-color: #9fbfff;\n",
       "  color: #000000;\n",
       "}\n",
       "#T_54f14_row15_col1, #T_54f14_row21_col1, #T_54f14_row28_col1, #T_54f14_row31_col0 {\n",
       "  background-color: #b9d0f9;\n",
       "  color: #000000;\n",
       "}\n",
       "#T_54f14_row16_col0 {\n",
       "  background-color: #a1c0ff;\n",
       "  color: #000000;\n",
       "}\n",
       "#T_54f14_row17_col0, #T_54f14_row18_col0, #T_54f14_row19_col0 {\n",
       "  background-color: #a5c3fe;\n",
       "  color: #000000;\n",
       "}\n",
       "#T_54f14_row18_col1, #T_54f14_row27_col0 {\n",
       "  background-color: #b5cdfa;\n",
       "  color: #000000;\n",
       "}\n",
       "#T_54f14_row19_col1, #T_54f14_row24_col1, #T_54f14_row25_col0, #T_54f14_row25_col1 {\n",
       "  background-color: #b2ccfb;\n",
       "  color: #000000;\n",
       "}\n",
       "#T_54f14_row20_col0 {\n",
       "  background-color: #a7c5fe;\n",
       "  color: #000000;\n",
       "}\n",
       "#T_54f14_row20_col1, #T_54f14_row39_col0, #T_54f14_row40_col0 {\n",
       "  background-color: #bfd3f6;\n",
       "  color: #000000;\n",
       "}\n",
       "#T_54f14_row21_col0, #T_54f14_row22_col0 {\n",
       "  background-color: #a9c6fd;\n",
       "  color: #000000;\n",
       "}\n",
       "#T_54f14_row22_col1 {\n",
       "  background-color: #abc8fd;\n",
       "  color: #000000;\n",
       "}\n",
       "#T_54f14_row23_col1 {\n",
       "  background-color: #adc9fd;\n",
       "  color: #000000;\n",
       "}\n",
       "#T_54f14_row24_col0 {\n",
       "  background-color: #afcafc;\n",
       "  color: #000000;\n",
       "}\n",
       "#T_54f14_row26_col0, #T_54f14_row30_col1 {\n",
       "  background-color: #b3cdfb;\n",
       "  color: #000000;\n",
       "}\n",
       "#T_54f14_row26_col1, #T_54f14_row32_col1, #T_54f14_row37_col1, #T_54f14_row40_col1, #T_54f14_row42_col0, #T_54f14_row43_col0 {\n",
       "  background-color: #c4d5f3;\n",
       "  color: #000000;\n",
       "}\n",
       "#T_54f14_row27_col1 {\n",
       "  background-color: #b6cefa;\n",
       "  color: #000000;\n",
       "}\n",
       "#T_54f14_row29_col1 {\n",
       "  background-color: #bbd1f8;\n",
       "  color: #000000;\n",
       "}\n",
       "#T_54f14_row31_col1, #T_54f14_row36_col0 {\n",
       "  background-color: #bcd2f7;\n",
       "  color: #000000;\n",
       "}\n",
       "#T_54f14_row32_col0, #T_54f14_row33_col0, #T_54f14_row34_col0, #T_54f14_row35_col0 {\n",
       "  background-color: #bad0f8;\n",
       "  color: #000000;\n",
       "}\n",
       "#T_54f14_row33_col1, #T_54f14_row37_col0, #T_54f14_row38_col0 {\n",
       "  background-color: #bed2f6;\n",
       "  color: #000000;\n",
       "}\n",
       "#T_54f14_row34_col1 {\n",
       "  background-color: #c5d6f2;\n",
       "  color: #000000;\n",
       "}\n",
       "#T_54f14_row35_col1 {\n",
       "  background-color: #c0d4f5;\n",
       "  color: #000000;\n",
       "}\n",
       "#T_54f14_row36_col1, #T_54f14_row41_col0 {\n",
       "  background-color: #c1d4f4;\n",
       "  color: #000000;\n",
       "}\n",
       "#T_54f14_row38_col1, #T_54f14_row39_col1, #T_54f14_row43_col1, #T_54f14_row45_col0, #T_54f14_row46_col0, #T_54f14_row47_col0 {\n",
       "  background-color: #c9d7f0;\n",
       "  color: #000000;\n",
       "}\n",
       "#T_54f14_row41_col1 {\n",
       "  background-color: #c3d5f4;\n",
       "  color: #000000;\n",
       "}\n",
       "#T_54f14_row42_col1 {\n",
       "  background-color: #d2dbe8;\n",
       "  color: #000000;\n",
       "}\n",
       "#T_54f14_row44_col0 {\n",
       "  background-color: #c6d6f1;\n",
       "  color: #000000;\n",
       "}\n",
       "#T_54f14_row44_col1 {\n",
       "  background-color: #d4dbe6;\n",
       "  color: #000000;\n",
       "}\n",
       "#T_54f14_row45_col1 {\n",
       "  background-color: #cdd9ec;\n",
       "  color: #000000;\n",
       "}\n",
       "#T_54f14_row46_col1 {\n",
       "  background-color: #dbdcde;\n",
       "  color: #000000;\n",
       "}\n",
       "#T_54f14_row47_col1, #T_54f14_row48_col0, #T_54f14_row48_col1 {\n",
       "  background-color: #cedaeb;\n",
       "  color: #000000;\n",
       "}\n",
       "#T_54f14_row49_col0 {\n",
       "  background-color: #cfdaea;\n",
       "  color: #000000;\n",
       "}\n",
       "#T_54f14_row49_col1, #T_54f14_row51_col0 {\n",
       "  background-color: #d3dbe7;\n",
       "  color: #000000;\n",
       "}\n",
       "#T_54f14_row50_col0 {\n",
       "  background-color: #d1dae9;\n",
       "  color: #000000;\n",
       "}\n",
       "#T_54f14_row50_col1, #T_54f14_row54_col0 {\n",
       "  background-color: #dadce0;\n",
       "  color: #000000;\n",
       "}\n",
       "#T_54f14_row51_col1, #T_54f14_row52_col0 {\n",
       "  background-color: #d8dce2;\n",
       "  color: #000000;\n",
       "}\n",
       "#T_54f14_row52_col1 {\n",
       "  background-color: #d7dce3;\n",
       "  color: #000000;\n",
       "}\n",
       "#T_54f14_row53_col0 {\n",
       "  background-color: #d9dce1;\n",
       "  color: #000000;\n",
       "}\n",
       "#T_54f14_row53_col1 {\n",
       "  background-color: #e8d6cc;\n",
       "  color: #000000;\n",
       "}\n",
       "#T_54f14_row54_col1 {\n",
       "  background-color: #e6d7cf;\n",
       "  color: #000000;\n",
       "}\n",
       "#T_54f14_row55_col0 {\n",
       "  background-color: #e0dbd8;\n",
       "  color: #000000;\n",
       "}\n",
       "#T_54f14_row55_col1, #T_54f14_row57_col0, #T_54f14_row57_col1 {\n",
       "  background-color: #e4d9d2;\n",
       "  color: #000000;\n",
       "}\n",
       "#T_54f14_row56_col0 {\n",
       "  background-color: #e1dad6;\n",
       "  color: #000000;\n",
       "}\n",
       "#T_54f14_row56_col1 {\n",
       "  background-color: #ecd3c5;\n",
       "  color: #000000;\n",
       "}\n",
       "#T_54f14_row58_col0 {\n",
       "  background-color: #e7d7ce;\n",
       "  color: #000000;\n",
       "}\n",
       "#T_54f14_row58_col1 {\n",
       "  background-color: #f0cdbb;\n",
       "  color: #000000;\n",
       "}\n",
       "#T_54f14_row59_col0 {\n",
       "  background-color: #f1ccb8;\n",
       "  color: #000000;\n",
       "}\n",
       "#T_54f14_row59_col1 {\n",
       "  background-color: #f4c6af;\n",
       "  color: #000000;\n",
       "}\n",
       "#T_54f14_row60_col0 {\n",
       "  background-color: #f3c7b1;\n",
       "  color: #000000;\n",
       "}\n",
       "#T_54f14_row60_col1 {\n",
       "  background-color: #f7b599;\n",
       "  color: #000000;\n",
       "}\n",
       "#T_54f14_row61_col0 {\n",
       "  background-color: #f18d6f;\n",
       "  color: #f1f1f1;\n",
       "}\n",
       "#T_54f14_row61_col1 {\n",
       "  background-color: #f59f80;\n",
       "  color: #000000;\n",
       "}\n",
       "#T_54f14_row62_col0, #T_54f14_row62_col1 {\n",
       "  background-color: #b40426;\n",
       "  color: #f1f1f1;\n",
       "}\n",
       "</style>\n",
       "<table id=\"T_54f14\">\n",
       "  <thead>\n",
       "    <tr>\n",
       "      <th class=\"blank level0\" >&nbsp;</th>\n",
       "      <th id=\"T_54f14_level0_col0\" class=\"col_heading level0 col0\" >min_year_exp</th>\n",
       "      <th id=\"T_54f14_level0_col1\" class=\"col_heading level0 col1\" >max_year_exp</th>\n",
       "    </tr>\n",
       "    <tr>\n",
       "      <th class=\"index_name level0\" >industry</th>\n",
       "      <th class=\"blank col0\" >&nbsp;</th>\n",
       "      <th class=\"blank col1\" >&nbsp;</th>\n",
       "    </tr>\n",
       "  </thead>\n",
       "  <tbody>\n",
       "    <tr>\n",
       "      <th id=\"T_54f14_level0_row0\" class=\"row_heading level0 row0\" >Fresher / Trainee / Entry Level</th>\n",
       "      <td id=\"T_54f14_row0_col0\" class=\"data row0 col0\" >0.055556</td>\n",
       "      <td id=\"T_54f14_row0_col1\" class=\"data row0 col1\" >2.222222</td>\n",
       "    </tr>\n",
       "    <tr>\n",
       "      <th id=\"T_54f14_level0_row1\" class=\"row_heading level0 row1\" >Wellness / Fitness / Sports / Beauty</th>\n",
       "      <td id=\"T_54f14_row1_col0\" class=\"data row1 col0\" >1.000000</td>\n",
       "      <td id=\"T_54f14_row1_col1\" class=\"data row1 col1\" >4.250000</td>\n",
       "    </tr>\n",
       "    <tr>\n",
       "      <th id=\"T_54f14_level0_row2\" class=\"row_heading level0 row2\" >Leather</th>\n",
       "      <td id=\"T_54f14_row2_col0\" class=\"data row2 col0\" >1.000000</td>\n",
       "      <td id=\"T_54f14_row2_col1\" class=\"data row2 col1\" >3.000000</td>\n",
       "    </tr>\n",
       "    <tr>\n",
       "      <th id=\"T_54f14_level0_row3\" class=\"row_heading level0 row3\" >BPO / Call Centre / ITES</th>\n",
       "      <td id=\"T_54f14_row3_col0\" class=\"data row3 col0\" >1.731260</td>\n",
       "      <td id=\"T_54f14_row3_col1\" class=\"data row3 col1\" >5.175439</td>\n",
       "    </tr>\n",
       "    <tr>\n",
       "      <th id=\"T_54f14_level0_row4\" class=\"row_heading level0 row4\" >Government / Defence</th>\n",
       "      <td id=\"T_54f14_row4_col0\" class=\"data row4 col0\" >2.315789</td>\n",
       "      <td id=\"T_54f14_row4_col1\" class=\"data row4 col1\" >6.894737</td>\n",
       "    </tr>\n",
       "    <tr>\n",
       "      <th id=\"T_54f14_level0_row5\" class=\"row_heading level0 row5\" >Publishing</th>\n",
       "      <td id=\"T_54f14_row5_col0\" class=\"data row5 col0\" >2.386364</td>\n",
       "      <td id=\"T_54f14_row5_col1\" class=\"data row5 col1\" >5.636364</td>\n",
       "    </tr>\n",
       "    <tr>\n",
       "      <th id=\"T_54f14_level0_row6\" class=\"row_heading level0 row6\" >Wellness / Fitness / Sports</th>\n",
       "      <td id=\"T_54f14_row6_col0\" class=\"data row6 col0\" >2.400000</td>\n",
       "      <td id=\"T_54f14_row6_col1\" class=\"data row6 col1\" >5.066667</td>\n",
       "    </tr>\n",
       "    <tr>\n",
       "      <th id=\"T_54f14_level0_row7\" class=\"row_heading level0 row7\" >Travel / Hotels / Restaurants / Airlines / Railways</th>\n",
       "      <td id=\"T_54f14_row7_col0\" class=\"data row7 col0\" >2.428184</td>\n",
       "      <td id=\"T_54f14_row7_col1\" class=\"data row7 col1\" >5.769648</td>\n",
       "    </tr>\n",
       "    <tr>\n",
       "      <th id=\"T_54f14_level0_row8\" class=\"row_heading level0 row8\" >Advertising / PR / MR / Event Management</th>\n",
       "      <td id=\"T_54f14_row8_col0\" class=\"data row8 col0\" >2.454183</td>\n",
       "      <td id=\"T_54f14_row8_col1\" class=\"data row8 col1\" >5.709163</td>\n",
       "    </tr>\n",
       "    <tr>\n",
       "      <th id=\"T_54f14_level0_row9\" class=\"row_heading level0 row9\" >Medical / Healthcare / Hospitals</th>\n",
       "      <td id=\"T_54f14_row9_col0\" class=\"data row9 col0\" >2.597980</td>\n",
       "      <td id=\"T_54f14_row9_col1\" class=\"data row9 col1\" >5.921212</td>\n",
       "    </tr>\n",
       "    <tr>\n",
       "      <th id=\"T_54f14_level0_row10\" class=\"row_heading level0 row10\" >Shipping / Marine</th>\n",
       "      <td id=\"T_54f14_row10_col0\" class=\"data row10 col0\" >2.611111</td>\n",
       "      <td id=\"T_54f14_row10_col1\" class=\"data row10 col1\" >6.444444</td>\n",
       "    </tr>\n",
       "    <tr>\n",
       "      <th id=\"T_54f14_level0_row11\" class=\"row_heading level0 row11\" >Gems / Jewellery</th>\n",
       "      <td id=\"T_54f14_row11_col0\" class=\"data row11 col0\" >2.666667</td>\n",
       "      <td id=\"T_54f14_row11_col1\" class=\"data row11 col1\" >5.851852</td>\n",
       "    </tr>\n",
       "    <tr>\n",
       "      <th id=\"T_54f14_level0_row12\" class=\"row_heading level0 row12\" >Animation / Gaming</th>\n",
       "      <td id=\"T_54f14_row12_col0\" class=\"data row12 col0\" >2.708333</td>\n",
       "      <td id=\"T_54f14_row12_col1\" class=\"data row12 col1\" >5.958333</td>\n",
       "    </tr>\n",
       "    <tr>\n",
       "      <th id=\"T_54f14_level0_row13\" class=\"row_heading level0 row13\" >Media / Entertainment / Internet</th>\n",
       "      <td id=\"T_54f14_row13_col0\" class=\"data row13 col0\" >2.774545</td>\n",
       "      <td id=\"T_54f14_row13_col1\" class=\"data row13 col1\" >5.970909</td>\n",
       "    </tr>\n",
       "    <tr>\n",
       "      <th id=\"T_54f14_level0_row14\" class=\"row_heading level0 row14\" >Heat Ventilation / Air Conditioning</th>\n",
       "      <td id=\"T_54f14_row14_col0\" class=\"data row14 col0\" >2.833333</td>\n",
       "      <td id=\"T_54f14_row14_col1\" class=\"data row14 col1\" >5.916667</td>\n",
       "    </tr>\n",
       "    <tr>\n",
       "      <th id=\"T_54f14_level0_row15\" class=\"row_heading level0 row15\" >Insurance</th>\n",
       "      <td id=\"T_54f14_row15_col0\" class=\"data row15 col0\" >2.952663</td>\n",
       "      <td id=\"T_54f14_row15_col1\" class=\"data row15 col1\" >6.982249</td>\n",
       "    </tr>\n",
       "    <tr>\n",
       "      <th id=\"T_54f14_level0_row16\" class=\"row_heading level0 row16\" >Internet / Ecommerce</th>\n",
       "      <td id=\"T_54f14_row16_col0\" class=\"data row16 col0\" >2.974255</td>\n",
       "      <td id=\"T_54f14_row16_col1\" class=\"data row16 col1\" >5.872629</td>\n",
       "    </tr>\n",
       "    <tr>\n",
       "      <th id=\"T_54f14_level0_row17\" class=\"row_heading level0 row17\" >Legal</th>\n",
       "      <td id=\"T_54f14_row17_col0\" class=\"data row17 col0\" >3.086957</td>\n",
       "      <td id=\"T_54f14_row17_col1\" class=\"data row17 col1\" >6.913043</td>\n",
       "    </tr>\n",
       "    <tr>\n",
       "      <th id=\"T_54f14_level0_row18\" class=\"row_heading level0 row18\" >Aviation / Aerospace Firms</th>\n",
       "      <td id=\"T_54f14_row18_col0\" class=\"data row18 col0\" >3.096774</td>\n",
       "      <td id=\"T_54f14_row18_col1\" class=\"data row18 col1\" >6.838710</td>\n",
       "    </tr>\n",
       "    <tr>\n",
       "      <th id=\"T_54f14_level0_row19\" class=\"row_heading level0 row19\" >Other</th>\n",
       "      <td id=\"T_54f14_row19_col0\" class=\"data row19 col0\" >3.106195</td>\n",
       "      <td id=\"T_54f14_row19_col1\" class=\"data row19 col1\" >6.707965</td>\n",
       "    </tr>\n",
       "    <tr>\n",
       "      <th id=\"T_54f14_level0_row20\" class=\"row_heading level0 row20\" >Office Equipment / Automation</th>\n",
       "      <td id=\"T_54f14_row20_col0\" class=\"data row20 col0\" >3.153846</td>\n",
       "      <td id=\"T_54f14_row20_col1\" class=\"data row20 col1\" >7.230769</td>\n",
       "    </tr>\n",
       "    <tr>\n",
       "      <th id=\"T_54f14_level0_row21\" class=\"row_heading level0 row21\" >Ceramics / Sanitary ware</th>\n",
       "      <td id=\"T_54f14_row21_col0\" class=\"data row21 col0\" >3.190476</td>\n",
       "      <td id=\"T_54f14_row21_col1\" class=\"data row21 col1\" >6.952381</td>\n",
       "    </tr>\n",
       "    <tr>\n",
       "      <th id=\"T_54f14_level0_row22\" class=\"row_heading level0 row22\" >Export / Import</th>\n",
       "      <td id=\"T_54f14_row22_col0\" class=\"data row22 col0\" >3.205882</td>\n",
       "      <td id=\"T_54f14_row22_col1\" class=\"data row22 col1\" >6.470588</td>\n",
       "    </tr>\n",
       "    <tr>\n",
       "      <th id=\"T_54f14_level0_row23\" class=\"row_heading level0 row23\" >Security / Law Enforcement</th>\n",
       "      <td id=\"T_54f14_row23_col0\" class=\"data row23 col0\" >3.233333</td>\n",
       "      <td id=\"T_54f14_row23_col1\" class=\"data row23 col1\" >6.500000</td>\n",
       "    </tr>\n",
       "    <tr>\n",
       "      <th id=\"T_54f14_level0_row24\" class=\"row_heading level0 row24\" >Industrial Products / Heavy Machinery</th>\n",
       "      <td id=\"T_54f14_row24_col0\" class=\"data row24 col0\" >3.387622</td>\n",
       "      <td id=\"T_54f14_row24_col1\" class=\"data row24 col1\" >6.703583</td>\n",
       "    </tr>\n",
       "    <tr>\n",
       "      <th id=\"T_54f14_level0_row25\" class=\"row_heading level0 row25\" >Recruitment / Staffing</th>\n",
       "      <td id=\"T_54f14_row25_col0\" class=\"data row25 col0\" >3.451727</td>\n",
       "      <td id=\"T_54f14_row25_col1\" class=\"data row25 col1\" >6.740478</td>\n",
       "    </tr>\n",
       "    <tr>\n",
       "      <th id=\"T_54f14_level0_row26\" class=\"row_heading level0 row26\" >Courier / Transportation / Freight / Warehousing</th>\n",
       "      <td id=\"T_54f14_row26_col0\" class=\"data row26 col0\" >3.509434</td>\n",
       "      <td id=\"T_54f14_row26_col1\" class=\"data row26 col1\" >7.386792</td>\n",
       "    </tr>\n",
       "    <tr>\n",
       "      <th id=\"T_54f14_level0_row27\" class=\"row_heading level0 row27\" >Electricals / Switchgears</th>\n",
       "      <td id=\"T_54f14_row27_col0\" class=\"data row27 col0\" >3.542553</td>\n",
       "      <td id=\"T_54f14_row27_col1\" class=\"data row27 col1\" >6.882979</td>\n",
       "    </tr>\n",
       "    <tr>\n",
       "      <th id=\"T_54f14_level0_row28\" class=\"row_heading level0 row28\" >NGO / Social Services / Regulators / Industry Associations</th>\n",
       "      <td id=\"T_54f14_row28_col0\" class=\"data row28 col0\" >3.605263</td>\n",
       "      <td id=\"T_54f14_row28_col1\" class=\"data row28 col1\" >6.973684</td>\n",
       "    </tr>\n",
       "    <tr>\n",
       "      <th id=\"T_54f14_level0_row29\" class=\"row_heading level0 row29\" >Architecture / Interior Design</th>\n",
       "      <td id=\"T_54f14_row29_col0\" class=\"data row29 col0\" >3.606061</td>\n",
       "      <td id=\"T_54f14_row29_col1\" class=\"data row29 col1\" >7.060606</td>\n",
       "    </tr>\n",
       "    <tr>\n",
       "      <th id=\"T_54f14_level0_row30\" class=\"row_heading level0 row30\" >KPO / Research / Analytics</th>\n",
       "      <td id=\"T_54f14_row30_col0\" class=\"data row30 col0\" >3.619469</td>\n",
       "      <td id=\"T_54f14_row30_col1\" class=\"data row30 col1\" >6.778761</td>\n",
       "    </tr>\n",
       "    <tr>\n",
       "      <th id=\"T_54f14_level0_row31\" class=\"row_heading level0 row31\" >Accounting / Finance</th>\n",
       "      <td id=\"T_54f14_row31_col0\" class=\"data row31 col0\" >3.647577</td>\n",
       "      <td id=\"T_54f14_row31_col1\" class=\"data row31 col1\" >7.096916</td>\n",
       "    </tr>\n",
       "    <tr>\n",
       "      <th id=\"T_54f14_level0_row32\" class=\"row_heading level0 row32\" >Retail / Wholesale</th>\n",
       "      <td id=\"T_54f14_row32_col0\" class=\"data row32 col0\" >3.679348</td>\n",
       "      <td id=\"T_54f14_row32_col1\" class=\"data row32 col1\" >7.413043</td>\n",
       "    </tr>\n",
       "    <tr>\n",
       "      <th id=\"T_54f14_level0_row33\" class=\"row_heading level0 row33\" >Telecom/ISP /</th>\n",
       "      <td id=\"T_54f14_row33_col0\" class=\"data row33 col0\" >3.681159</td>\n",
       "      <td id=\"T_54f14_row33_col1\" class=\"data row33 col1\" >7.183575</td>\n",
       "    </tr>\n",
       "    <tr>\n",
       "      <th id=\"T_54f14_level0_row34\" class=\"row_heading level0 row34\" >Automobile / Auto Anciliary / Auto Components</th>\n",
       "      <td id=\"T_54f14_row34_col0\" class=\"data row34 col0\" >3.698745</td>\n",
       "      <td id=\"T_54f14_row34_col1\" class=\"data row34 col1\" >7.479079</td>\n",
       "    </tr>\n",
       "    <tr>\n",
       "      <th id=\"T_54f14_level0_row35\" class=\"row_heading level0 row35\" >Agriculture / Dairy</th>\n",
       "      <td id=\"T_54f14_row35_col0\" class=\"data row35 col0\" >3.704545</td>\n",
       "      <td id=\"T_54f14_row35_col1\" class=\"data row35 col1\" >7.272727</td>\n",
       "    </tr>\n",
       "    <tr>\n",
       "      <th id=\"T_54f14_level0_row36\" class=\"row_heading level0 row36\" >IT-Software / Software Services</th>\n",
       "      <td id=\"T_54f14_row36_col0\" class=\"data row36 col0\" >3.763583</td>\n",
       "      <td id=\"T_54f14_row36_col1\" class=\"data row36 col1\" >7.294979</td>\n",
       "    </tr>\n",
       "    <tr>\n",
       "      <th id=\"T_54f14_level0_row37\" class=\"row_heading level0 row37\" >Banking / Financial Services / Broking</th>\n",
       "      <td id=\"T_54f14_row37_col0\" class=\"data row37 col0\" >3.792407</td>\n",
       "      <td id=\"T_54f14_row37_col1\" class=\"data row37 col1\" >7.412763</td>\n",
       "    </tr>\n",
       "    <tr>\n",
       "      <th id=\"T_54f14_level0_row38\" class=\"row_heading level0 row38\" >Consumer Electronics / Appliances / Durables</th>\n",
       "      <td id=\"T_54f14_row38_col0\" class=\"data row38 col0\" >3.801282</td>\n",
       "      <td id=\"T_54f14_row38_col1\" class=\"data row38 col1\" >7.615385</td>\n",
       "    </tr>\n",
       "    <tr>\n",
       "      <th id=\"T_54f14_level0_row39\" class=\"row_heading level0 row39\" >Chemicals / PetroChemical / Plastic / Rubber</th>\n",
       "      <td id=\"T_54f14_row39_col0\" class=\"data row39 col0\" >3.855556</td>\n",
       "      <td id=\"T_54f14_row39_col1\" class=\"data row39 col1\" >7.577778</td>\n",
       "    </tr>\n",
       "    <tr>\n",
       "      <th id=\"T_54f14_level0_row40\" class=\"row_heading level0 row40\" >Fertilizers / Pesticides</th>\n",
       "      <td id=\"T_54f14_row40_col0\" class=\"data row40 col0\" >3.857143</td>\n",
       "      <td id=\"T_54f14_row40_col1\" class=\"data row40 col1\" >7.428571</td>\n",
       "    </tr>\n",
       "    <tr>\n",
       "      <th id=\"T_54f14_level0_row41\" class=\"row_heading level0 row41\" >Construction / Engineering / Cement / Metals</th>\n",
       "      <td id=\"T_54f14_row41_col0\" class=\"data row41 col0\" >3.899777</td>\n",
       "      <td id=\"T_54f14_row41_col1\" class=\"data row41 col1\" >7.354120</td>\n",
       "    </tr>\n",
       "    <tr>\n",
       "      <th id=\"T_54f14_level0_row42\" class=\"row_heading level0 row42\" >Broadcasting</th>\n",
       "      <td id=\"T_54f14_row42_col0\" class=\"data row42 col0\" >4.000000</td>\n",
       "      <td id=\"T_54f14_row42_col1\" class=\"data row42 col1\" >8.000000</td>\n",
       "    </tr>\n",
       "    <tr>\n",
       "      <th id=\"T_54f14_level0_row43\" class=\"row_heading level0 row43\" >Real Estate / Property</th>\n",
       "      <td id=\"T_54f14_row43_col0\" class=\"data row43 col0\" >4.004739</td>\n",
       "      <td id=\"T_54f14_row43_col1\" class=\"data row43 col1\" >7.587678</td>\n",
       "    </tr>\n",
       "    <tr>\n",
       "      <th id=\"T_54f14_level0_row44\" class=\"row_heading level0 row44\" >Semiconductors / Electronics</th>\n",
       "      <td id=\"T_54f14_row44_col0\" class=\"data row44 col0\" >4.053691</td>\n",
       "      <td id=\"T_54f14_row44_col1\" class=\"data row44 col1\" >8.087248</td>\n",
       "    </tr>\n",
       "    <tr>\n",
       "      <th id=\"T_54f14_level0_row45\" class=\"row_heading level0 row45\" >IT-Hardware & Networking</th>\n",
       "      <td id=\"T_54f14_row45_col0\" class=\"data row45 col0\" >4.134615</td>\n",
       "      <td id=\"T_54f14_row45_col1\" class=\"data row45 col1\" >7.793269</td>\n",
       "    </tr>\n",
       "    <tr>\n",
       "      <th id=\"T_54f14_level0_row46\" class=\"row_heading level0 row46\" >Glass / Glassware</th>\n",
       "      <td id=\"T_54f14_row46_col0\" class=\"data row46 col0\" >4.142857</td>\n",
       "      <td id=\"T_54f14_row46_col1\" class=\"data row46 col1\" >8.428571</td>\n",
       "    </tr>\n",
       "    <tr>\n",
       "      <th id=\"T_54f14_level0_row47\" class=\"row_heading level0 row47\" >Pharma / Biotech / Clinical Research</th>\n",
       "      <td id=\"T_54f14_row47_col0\" class=\"data row47 col0\" >4.156190</td>\n",
       "      <td id=\"T_54f14_row47_col1\" class=\"data row47 col1\" >7.828571</td>\n",
       "    </tr>\n",
       "    <tr>\n",
       "      <th id=\"T_54f14_level0_row48\" class=\"row_heading level0 row48\" >Strategy / Management Consulting Firms</th>\n",
       "      <td id=\"T_54f14_row48_col0\" class=\"data row48 col0\" >4.311798</td>\n",
       "      <td id=\"T_54f14_row48_col1\" class=\"data row48 col1\" >7.853933</td>\n",
       "    </tr>\n",
       "    <tr>\n",
       "      <th id=\"T_54f14_level0_row49\" class=\"row_heading level0 row49\" >FMCG / Foods / Beverage</th>\n",
       "      <td id=\"T_54f14_row49_col0\" class=\"data row49 col0\" >4.372727</td>\n",
       "      <td id=\"T_54f14_row49_col1\" class=\"data row49 col1\" >8.027273</td>\n",
       "    </tr>\n",
       "    <tr>\n",
       "      <th id=\"T_54f14_level0_row50\" class=\"row_heading level0 row50\" >Printing / Packaging</th>\n",
       "      <td id=\"T_54f14_row50_col0\" class=\"data row50 col0\" >4.410256</td>\n",
       "      <td id=\"T_54f14_row50_col1\" class=\"data row50 col1\" >8.410256</td>\n",
       "    </tr>\n",
       "    <tr>\n",
       "      <th id=\"T_54f14_level0_row51\" class=\"row_heading level0 row51\" >Education / Teaching / Training</th>\n",
       "      <td id=\"T_54f14_row51_col0\" class=\"data row51 col0\" >4.465204</td>\n",
       "      <td id=\"T_54f14_row51_col1\" class=\"data row51 col1\" >8.273828</td>\n",
       "    </tr>\n",
       "    <tr>\n",
       "      <th id=\"T_54f14_level0_row52\" class=\"row_heading level0 row52\" >Telecom/ISP</th>\n",
       "      <td id=\"T_54f14_row52_col0\" class=\"data row52 col0\" >4.662921</td>\n",
       "      <td id=\"T_54f14_row52_col1\" class=\"data row52 col1\" >8.247191</td>\n",
       "    </tr>\n",
       "    <tr>\n",
       "      <th id=\"T_54f14_level0_row53\" class=\"row_heading level0 row53\" >Water Treatment / Waste Management</th>\n",
       "      <td id=\"T_54f14_row53_col0\" class=\"data row53 col0\" >4.700000</td>\n",
       "      <td id=\"T_54f14_row53_col1\" class=\"data row53 col1\" >9.100000</td>\n",
       "    </tr>\n",
       "    <tr>\n",
       "      <th id=\"T_54f14_level0_row54\" class=\"row_heading level0 row54\" >Brewery / Distillery</th>\n",
       "      <td id=\"T_54f14_row54_col0\" class=\"data row54 col0\" >4.750000</td>\n",
       "      <td id=\"T_54f14_row54_col1\" class=\"data row54 col1\" >9.000000</td>\n",
       "    </tr>\n",
       "    <tr>\n",
       "      <th id=\"T_54f14_level0_row55\" class=\"row_heading level0 row55\" >Textiles / Garments / Accessories</th>\n",
       "      <td id=\"T_54f14_row55_col0\" class=\"data row55 col0\" >4.944444</td>\n",
       "      <td id=\"T_54f14_row55_col1\" class=\"data row55 col1\" >8.873016</td>\n",
       "    </tr>\n",
       "    <tr>\n",
       "      <th id=\"T_54f14_level0_row56\" class=\"row_heading level0 row56\" >Facility Management</th>\n",
       "      <td id=\"T_54f14_row56_col0\" class=\"data row56 col0\" >5.000000</td>\n",
       "      <td id=\"T_54f14_row56_col1\" class=\"data row56 col1\" >9.333333</td>\n",
       "    </tr>\n",
       "    <tr>\n",
       "      <th id=\"T_54f14_level0_row57\" class=\"row_heading level0 row57\" >Oil and Gas / Energy / Power / Infrastructure</th>\n",
       "      <td id=\"T_54f14_row57_col0\" class=\"data row57 col0\" >5.091346</td>\n",
       "      <td id=\"T_54f14_row57_col1\" class=\"data row57 col1\" >8.889423</td>\n",
       "    </tr>\n",
       "    <tr>\n",
       "      <th id=\"T_54f14_level0_row58\" class=\"row_heading level0 row58\" >Food Processing</th>\n",
       "      <td id=\"T_54f14_row58_col0\" class=\"data row58 col0\" >5.222222</td>\n",
       "      <td id=\"T_54f14_row58_col1\" class=\"data row58 col1\" >9.611111</td>\n",
       "    </tr>\n",
       "    <tr>\n",
       "      <th id=\"T_54f14_level0_row59\" class=\"row_heading level0 row59\" >Medical Devices / Equipments</th>\n",
       "      <td id=\"T_54f14_row59_col0\" class=\"data row59 col0\" >5.750000</td>\n",
       "      <td id=\"T_54f14_row59_col1\" class=\"data row59 col1\" >10.000000</td>\n",
       "    </tr>\n",
       "    <tr>\n",
       "      <th id=\"T_54f14_level0_row60\" class=\"row_heading level0 row60\" >Iron and Steel</th>\n",
       "      <td id=\"T_54f14_row60_col0\" class=\"data row60 col0\" >5.916667</td>\n",
       "      <td id=\"T_54f14_row60_col1\" class=\"data row60 col1\" >10.708333</td>\n",
       "    </tr>\n",
       "    <tr>\n",
       "      <th id=\"T_54f14_level0_row61\" class=\"row_heading level0 row61\" >Pulp and Paper</th>\n",
       "      <td id=\"T_54f14_row61_col0\" class=\"data row61 col0\" >7.500000</td>\n",
       "      <td id=\"T_54f14_row61_col1\" class=\"data row61 col1\" >11.500000</td>\n",
       "    </tr>\n",
       "    <tr>\n",
       "      <th id=\"T_54f14_level0_row62\" class=\"row_heading level0 row62\" >Tyres</th>\n",
       "      <td id=\"T_54f14_row62_col0\" class=\"data row62 col0\" >9.600000</td>\n",
       "      <td id=\"T_54f14_row62_col1\" class=\"data row62 col1\" >14.800000</td>\n",
       "    </tr>\n",
       "  </tbody>\n",
       "</table>\n"
      ],
      "text/plain": [
       "<pandas.io.formats.style.Styler at 0x142e1e91820>"
      ]
     },
     "execution_count": 89,
     "metadata": {},
     "output_type": "execute_result"
    }
   ],
   "source": [
    "pd.set_option('display.max_rows', 70)\n",
    "summary_df = df[['industry', 'min_year_exp', 'max_year_exp']].groupby(['industry']).mean().sort_values(by='min_year_exp')\n",
    "styled_summary = summary_df.style.background_gradient(cmap='coolwarm')\n",
    "styled_summary\n"
   ]
  },
  {
   "cell_type": "markdown",
   "id": "e7465c46",
   "metadata": {},
   "source": [
    "From the results presented above, we can observe that certain industries tend to require relatively shorter years of experience, such as Fresher/Trainee/Entry Level, Wellness/Fitness/Sports/Beauty, and Leather. On the other hand, there are industries that typically demand a substantial number of years of experience, including Tyres, Pulp and Paper, and Medical Devices/Equipment. This information can be invaluable for job applicants looking to match their experience levels with specific industry requirements."
   ]
  },
  {
   "cell_type": "markdown",
   "id": "974af945",
   "metadata": {},
   "source": [
    "## Job Reccomendation ##"
   ]
  },
  {
   "cell_type": "markdown",
   "id": "c2db80bb",
   "metadata": {},
   "source": [
    "\n",
    "In this section, I aim to create an interactive function that enables users to search for job listings based on various criteria, including years of experience, degree, skills, and location. This function will provide an engaging and user-friendly way for individuals to find job opportunities that align with their qualifications and preferences."
   ]
  },
  {
   "cell_type": "code",
   "execution_count": 91,
   "id": "46c04ef8",
   "metadata": {},
   "outputs": [
    {
     "data": {
      "application/vnd.jupyter.widget-view+json": {
       "model_id": "be7c84b2281f4b8aa61516698f10ba27",
       "version_major": 2,
       "version_minor": 0
      },
      "text/plain": [
       "interactive(children=(Dropdown(description='min_exp', options=(0, 1, 2, 3, 4, 5, 6, 7, 8, 9, 10, 11, 12, 13, 1…"
      ]
     },
     "metadata": {},
     "output_type": "display_data"
    }
   ],
   "source": [
    "#@interact\n",
    "#def job_reccomendation(min_exp=range(0,25),max_exp=range(0,27),degree=list(df.degree.unique()),skills=df.skills.unique(),loc=list(x.unique())):\n",
    "    #bool_loc=[]\n",
    "    #for i in range(len(df)):\n",
    "        #if np.isin(loc,df['loc'][i]): bool_loc.append(bool(1))\n",
    "        #else : bool_loc.append(bool(0))\n",
    "    #y=df[(df[\"min_year_exp\"]>=min_exp)&(df[\"max_year_exp\"]<=max_exp)&(df[\"degree\"]==degree)&(df[\"skills\"]==skills)&(pd.Series(bool_loc))][['company','loc','industry', 'degree', 'experience','skills','numberofpositions','payrate' ]].reset_index(drop=True)\n",
    "    #return y"
   ]
  },
  {
   "cell_type": "code",
   "execution_count": 96,
   "id": "b9bf1604",
   "metadata": {},
   "outputs": [],
   "source": [
    "import ipywidgets as widgets\n",
    "from IPython.display import display, clear_output, HTML\n",
    "from ipywidgets import interact"
   ]
  },
  {
   "cell_type": "code",
   "execution_count": 99,
   "id": "ed2825ee",
   "metadata": {},
   "outputs": [
    {
     "data": {
      "application/vnd.jupyter.widget-view+json": {
       "model_id": "8ceae88b3cd14d7cb7e9f0803ad3c975",
       "version_major": 2,
       "version_minor": 0
      },
      "text/plain": [
       "interactive(children=(IntSlider(value=0, description='min_exp', max=10), IntSlider(value=10, description='max_…"
      ]
     },
     "metadata": {},
     "output_type": "display_data"
    },
    {
     "data": {
      "application/vnd.jupyter.widget-view+json": {
       "model_id": "b53ec9b554db41189cf60c0d63db5689",
       "version_major": 2,
       "version_minor": 0
      },
      "text/plain": [
       "Output()"
      ]
     },
     "metadata": {},
     "output_type": "display_data"
    }
   ],
   "source": [
    "data = pd.DataFrame(df)\n",
    "\n",
    "degree = widgets.Dropdown(options=data['degree'].unique(), description='Degree')\n",
    "skills = widgets.Dropdown(options=data['skills'].unique(), description='Skills')\n",
    "loc = widgets.SelectMultiple(options=data['loc'].apply(lambda x: ', '.join(x)).unique(), description='Location')\n",
    "\n",
    "def job_reccomendation(min_exp, max_exp, degree, skills, loc):\n",
    "    selected_loc = list(loc.value)  # Convert the selected locations to a list\n",
    "    bool_loc = data['loc'].apply(lambda x: all(l in x for l in selected_loc))\n",
    "    filtered_data = data[(data[\"min_year_exp\"] >= min_exp) & (data[\"max_year_exp\"] <= max_exp) & (data[\"degree\"] == degree) & (data[\"skills\"] == skills) & bool_loc]\n",
    "    \n",
    "    return filtered_data\n",
    "\n",
    "output = widgets.Output()\n",
    "\n",
    "@output.capture(clear_output=True, wait=True)\n",
    "def update_recommendation(min_exp, max_exp, degree, skills):\n",
    "    result = job_reccomendation(min_exp, max_exp, degree, skills, loc)\n",
    "    if not result.empty:\n",
    "        display(result)\n",
    "    else:\n",
    "        print(\"No recommendations found.\")\n",
    "\n",
    "interact(update_recommendation, min_exp=widgets.IntSlider(min=0, max=10, step=1, value=0), max_exp=widgets.IntSlider(min=0, max=10, step=1, value=10), degree=degree, skills=skills, loc=loc)\n",
    "display(output)"
   ]
  },
  {
   "cell_type": "code",
   "execution_count": null,
   "id": "ef558839",
   "metadata": {},
   "outputs": [],
   "source": []
  }
 ],
 "metadata": {
  "kernelspec": {
   "display_name": "Python 3 (ipykernel)",
   "language": "python",
   "name": "python3"
  },
  "language_info": {
   "codemirror_mode": {
    "name": "ipython",
    "version": 3
   },
   "file_extension": ".py",
   "mimetype": "text/x-python",
   "name": "python",
   "nbconvert_exporter": "python",
   "pygments_lexer": "ipython3",
   "version": "3.9.12"
  }
 },
 "nbformat": 4,
 "nbformat_minor": 5
}
